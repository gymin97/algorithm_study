{
 "cells": [
  {
   "cell_type": "markdown",
   "metadata": {},
   "source": [
    "### 신규 아이디 추천\n",
    "\n",
    "\n",
    "#### 문제 설명\n",
    "카카오에 입사한 신입 개발자 네오는 \"카카오계정개발팀\"에 배치되어, 카카오 서비스에 가입하는 유저들의 아이디를 생성하는 업무를 담당하게 되었습니다. \"네오\"에게 주어진 첫 업무는 새로 가입하는 유저들이 카카오 아이디 규칙에 맞지 않는 아이디를 입력했을 때, 입력된 아이디와 유사하면서 규칙에 맞는 아이디를 추천해주는 프로그램을 개발하는 것입니다. <br/><br/>\n",
    "\n",
    "다음은 카카오 아이디의 규칙입니다.<br/>\n",
    "\n",
    "- 아이디의 길이는 3자 이상 15자 이하여야 합니다.<br/>\n",
    "- 아이디는 알파벳 소문자, 숫자, 빼기(-), 밑줄(_), 마침표(.) 문자만 사용할 수 있습니다.<br/>\n",
    "- 단, 마침표(.)는 처음과 끝에 사용할 수 없으며 또한 연속으로 사용할 수 없습니다.<br/><br/>\n",
    "\n",
    "\"네오\"는 다음과 같이 7단계의 순차적인 처리 과정을 통해 신규 유저가 입력한 아이디가 카카오 아이디 규칙에 맞는 지 검사하고 규칙에 맞지 않은 경우 규칙에 맞는 새로운 아이디를 추천해 주려고 합니다.<br/>\n",
    "신규 유저가 입력한 아이디가 new_id 라고 한다면,<br/>\n",
    "\n",
    "\n",
    "1단계 new_id의 모든 대문자를 대응되는 소문자로 치환합니다.<br/>\n",
    "2단계 new_id에서 알파벳 소문자, 숫자, 빼기(-), 밑줄(_), 마침표(.)를 제외한 모든 문자를 제거합니다.<br/>\n",
    "3단계 new_id에서 마침표(.)가 2번 이상 연속된 부분을 하나의 마침표(.)로 치환합니다.<br/>\n",
    "4단계 new_id에서 마침표(.)가 처음이나 끝에 위치한다면 제거합니다.<br/>\n",
    "5단계 new_id가 빈 문자열이라면, new_id에 \"a\"를 대입합니다.<br/>\n",
    "6단계 new_id의 길이가 16자 이상이면, new_id의 첫 15개의 문자를 제외한 나머지 문자들을 모두 제거합니다.<br/>\n",
    "     - 만약 제거 후 마침표(.)가 new_id의 끝에 위치한다면 끝에 위치한 마침표(.) 문자를 제거합니다.<br/>\n",
    "7단계 new_id의 길이가 2자 이하라면, new_id의 마지막 문자를 new_id의 길이가 3이 될 때까지 반복해서 끝에 붙입니다.<br/>\n",
    "\n",
    "\n",
    "#### 입출력 예\n",
    "no\tnew_id\t ---> result<br/>\n",
    "예1\t\"...!@BaT#*..y.abcdefghijklm\" ---> \"bat.y.abcdefghi\"<br/>\n",
    "예2\t\"z-+.^.\"\t ---> \"z--\"<br/>\n",
    "예3\t\"=.=\"\t ---> \"aaa\"<br/>\n",
    "예4\t\"123_.def\"\t ---> \"123_.def\"<br/>\n",
    "예5\t\"abcdefghijklmn.p\"\t ---> \"abcdefghijklmn\"<br/>"
   ]
  },
  {
   "cell_type": "code",
   "execution_count": 1,
   "metadata": {},
   "outputs": [],
   "source": [
    "def solution(new_id):\n",
    "    import re \n",
    "    \n",
    "    answer = ''\n",
    "    ## 1\n",
    "    lower = new_id.lower()\n",
    "    \n",
    "    ## 2 \n",
    "    remove = re.sub('[^a-z0-9-_.]',\"\",lower)\n",
    "\n",
    "    ## 3\n",
    "    for idx in range (len(remove)):\n",
    "        if idx == (len(remove)-1): answer += remove[-1]\n",
    "        elif remove[idx] =='.':\n",
    "            if remove[idx+1] == '.': pass\n",
    "            else: \n",
    "                answer+= remove[idx]\n",
    "        else:\n",
    "            answer+= remove[idx]\n",
    "    ## 4\n",
    "    if answer[0] == '.':\n",
    "        answer = answer[1:]\n",
    "    elif answer[-1] == '.':\n",
    "        answer = answer[:-1]\n",
    "    \n",
    "    # 5 \n",
    "    if answer == '':\n",
    "        answer = 'a'\n",
    "        \n",
    "    # 6 \n",
    "    if len(answer) >=16:\n",
    "        answer = answer[:15]\n",
    "    if answer[-1] == '.':\n",
    "        answer = answer[:-1]\n",
    "        \n",
    "    #7 \n",
    "    while len(answer) < 3:\n",
    "        answer += answer[-1]\n",
    "        \n",
    "    return answer"
   ]
  },
  {
   "cell_type": "code",
   "execution_count": 3,
   "metadata": {},
   "outputs": [
    {
     "name": "stdout",
     "output_type": "stream",
     "text": [
      "bat.y.abcdefghi\n",
      "z--\n",
      "aaa\n",
      "123_.def\n",
      "abcdefghijklmn\n"
     ]
    }
   ],
   "source": [
    "print(solution(\"...!@BaT#*..y.abcdefghijklm\"))\n",
    "print(solution(\"z-+.^.\"))\n",
    "print(solution(\"=.=\"))\n",
    "print(solution(\"123_.def\"))\n",
    "print(solution(\"abcdefghijklmn.p\"))"
   ]
  },
  {
   "cell_type": "code",
   "execution_count": 18,
   "metadata": {},
   "outputs": [],
   "source": [
    "## 정규 표현식 사용하지 않기\n",
    "\n",
    "def solution(new_id):\n",
    "    import re \n",
    "    \n",
    "    answer = ''\n",
    "    ## 1\n",
    "    lower = new_id.lower()\n",
    "    \n",
    "    ## 2 \n",
    "    remove = ''\n",
    "    for char in lower:\n",
    "        if char.isalpha() or char.isdigit() or char in ['-', '_', '.']:\n",
    "            remove += char\n",
    "\n",
    "    ## 3\n",
    "    for idx in range (len(remove)):\n",
    "        if idx == (len(remove)-1): answer += remove[-1]\n",
    "        elif remove[idx] =='.':\n",
    "            if remove[idx+1] == '.': pass\n",
    "            else: \n",
    "                answer+= remove[idx]\n",
    "        else:\n",
    "            answer+= remove[idx]\n",
    "    ## 4\n",
    "    if answer[0] == '.':\n",
    "        answer = answer[1:]\n",
    "    elif answer[-1] == '.':\n",
    "        answer = answer[:-1]\n",
    "    \n",
    "    # 5 \n",
    "    if answer == '':\n",
    "        answer = 'a'\n",
    "        \n",
    "    # 6 \n",
    "    if len(answer) >=16:\n",
    "        answer = answer[:15]\n",
    "    if answer[-1] == '.':\n",
    "        answer = answer[:-1]\n",
    "        \n",
    "    #7 \n",
    "    while len(answer) < 3:\n",
    "        answer += answer[-1]\n",
    "        \n",
    "    return answer"
   ]
  },
  {
   "cell_type": "code",
   "execution_count": 19,
   "metadata": {},
   "outputs": [
    {
     "name": "stdout",
     "output_type": "stream",
     "text": [
      "bat.y.abcdefghi\n",
      "z--\n",
      "aaa\n",
      "123_.def\n",
      "abcdefghijklmn\n"
     ]
    }
   ],
   "source": [
    "print(solution(\"...!@BaT#*..y.abcdefghijklm\"))\n",
    "print(solution(\"z-+.^.\"))\n",
    "print(solution(\"=.=\"))\n",
    "print(solution(\"123_.def\"))\n",
    "print(solution(\"abcdefghijklmn.p\"))"
   ]
  }
 ],
 "metadata": {
  "kernelspec": {
   "display_name": "Python 3",
   "language": "python",
   "name": "python3"
  },
  "language_info": {
   "codemirror_mode": {
    "name": "ipython",
    "version": 3
   },
   "file_extension": ".py",
   "mimetype": "text/x-python",
   "name": "python",
   "nbconvert_exporter": "python",
   "pygments_lexer": "ipython3",
   "version": "3.8.5"
  }
 },
 "nbformat": 4,
 "nbformat_minor": 4
}
