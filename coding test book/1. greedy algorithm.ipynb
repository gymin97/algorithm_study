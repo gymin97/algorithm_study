{
 "cells": [
  {
   "cell_type": "markdown",
   "metadata": {},
   "source": [
    "### 그리디 알고리즘 연습문제\n",
    "\n",
    "1. 거스름돈\n",
    "- 당신은 음식점의 계산을 도와주는 점원이다. 카운터에는 거스름돈으로 사용할 500원, 100원, 50원, 10원짜리 동전이 무한히 존재한다고 가정한다. 손님에게 거슬러 줘야 할 돈이 N원일 때 거슬러 줘야 할 동전의 최소 개수를 구하라. 단, 거슬러 줘야 할 돈N은 항상 10의 배수이다."
   ]
  },
  {
   "cell_type": "code",
   "execution_count": 10,
   "metadata": {},
   "outputs": [],
   "source": [
    "def change (N): \n",
    "    coins = [500, 100, 50, 10]\n",
    "    total = 0\n",
    "    for coin in coins:\n",
    "        total += N//coin\n",
    "        N = N % coin\n",
    "        if N == 0:\n",
    "            break\n",
    "    return total    "
   ]
  },
  {
   "cell_type": "code",
   "execution_count": 12,
   "metadata": {},
   "outputs": [
    {
     "name": "stdout",
     "output_type": "stream",
     "text": [
      "1260\n"
     ]
    },
    {
     "data": {
      "text/plain": [
       "6"
      ]
     },
     "execution_count": 12,
     "metadata": {},
     "output_type": "execute_result"
    }
   ],
   "source": [
    "N = int(input())\n",
    "\n",
    "change(N)"
   ]
  },
  {
   "cell_type": "markdown",
   "metadata": {},
   "source": [
    "2. 큰수의 법칙\n",
    "배열의 크기 N과 숫자가 더해지는 횟수 M, k가 주어질때 동빈이의 큰수의 법칙에 따른 결과를 출력하시오  \n",
    "- 동빈이의 큰수의 법칙  \n",
    "배열이 주어질때 주어진 수들을 M번 더하여 가장 큰 수를 만드는 법칙   \n",
    "이때 특정한 인덱스에 해당하는 수가 연속 K번을 초과하여 더해질 수 없다   \n",
    "- 예시   \n",
    "입력 배열 = 2,4,5,4,6    \n",
    "M = 8, K =3  \n",
    "결과: 6+6+6+5+6+6+6+5 = 46\n"
   ]
  },
  {
   "cell_type": "code",
   "execution_count": 74,
   "metadata": {},
   "outputs": [],
   "source": [
    "def dongbin (data, m,k):\n",
    "    data.sort(reverse = True)\n",
    "\n",
    "    total = 0\n",
    "    while m > 0:\n",
    "        total += data[0]*k\n",
    "        m -= k\n",
    "        total += data[1]\n",
    "        m -= 1\n",
    "    return total"
   ]
  },
  {
   "cell_type": "code",
   "execution_count": 75,
   "metadata": {},
   "outputs": [
    {
     "name": "stdout",
     "output_type": "stream",
     "text": [
      "5,8,3\n",
      "2,4,5,4,6\n"
     ]
    },
    {
     "data": {
      "text/plain": [
       "46"
      ]
     },
     "execution_count": 75,
     "metadata": {},
     "output_type": "execute_result"
    }
   ],
   "source": [
    "n,m,k = map(int, input().split(',')) ## 쉼표로 구분하여 입력받기\n",
    "data = list(map(int, input().split(',')))\n",
    "\n",
    "dongbin(data, m, k)"
   ]
  },
  {
   "cell_type": "code",
   "execution_count": 76,
   "metadata": {},
   "outputs": [],
   "source": [
    "## 수학식으로 풀기\n",
    "## 하나의 data 배열은 '가장 큰 수 k개'와 '그 다음 큰 수 1개'로 이루어져있다\n",
    "## 가장큰수가 더해지는 총 횟수는 [세트 반복수*K + m을 k로 나눈 나머지]\n",
    "\n",
    "def fx_dongbin(data, m,k):\n",
    "    data.sort()\n",
    "    most = data[-1]\n",
    "    second = data [-2]\n",
    "    count = ((m//(k+1))*k) + (m%(k+1))\n",
    "    total = (most * count) + second*(m//(k+1))\n",
    "    return total"
   ]
  },
  {
   "cell_type": "code",
   "execution_count": 43,
   "metadata": {
    "scrolled": true
   },
   "outputs": [
    {
     "name": "stdout",
     "output_type": "stream",
     "text": [
      "5,8,3\n",
      "2,4,5,4,6\n"
     ]
    },
    {
     "data": {
      "text/plain": [
       "46"
      ]
     },
     "execution_count": 43,
     "metadata": {},
     "output_type": "execute_result"
    }
   ],
   "source": [
    "n,m,k = map(int, input().split(',')) ## 쉼표로 구분하여 입력받기\n",
    "data = list(map(int, input().split(',')))\n",
    "\n",
    "fx_dongbin(data, m, k)"
   ]
  },
  {
   "cell_type": "markdown",
   "metadata": {},
   "source": [
    "3. 숫자 카드 게임\n",
    "숫자가 쓰인 카드가 NxM 형태로 놓여져 있을 때 카드를 뽑을 행을 선택하고 해당 행에서 가장 작은 수가 적힌 카드를 선택한다.  \n",
    "위와 같은 방법으로 카드를 뽑을 때 가장 큰 수를 출력하시오"
   ]
  },
  {
   "cell_type": "code",
   "execution_count": 47,
   "metadata": {},
   "outputs": [
    {
     "name": "stdout",
     "output_type": "stream",
     "text": [
      "2\n"
     ]
    }
   ],
   "source": [
    "## input 배열이 주어지는 경우\n",
    "n,m = 3,3\n",
    "data = [[3,1,2],\n",
    "       [4,1,4],\n",
    "       [2,2,2]]\n",
    "min_row = []\n",
    "for row in data:\n",
    "    min_row.append(min(row))\n",
    "    \n",
    "print (max(min_row))"
   ]
  },
  {
   "cell_type": "code",
   "execution_count": 49,
   "metadata": {},
   "outputs": [
    {
     "name": "stdout",
     "output_type": "stream",
     "text": [
      "3,3\n",
      "3,1,2\n",
      "4,1,4\n",
      "2,2,2\n",
      "2\n"
     ]
    }
   ],
   "source": [
    "## input을 입력받는경우\n",
    "\n",
    "n,m = map(int, input().split(','))\n",
    "\n",
    "min_row = []\n",
    "for i in range (n):\n",
    "    row = input().split(',')\n",
    "    min_row.append(min(row))\n",
    "\n",
    "print (max(min_row))"
   ]
  },
  {
   "cell_type": "markdown",
   "metadata": {},
   "source": [
    "4. 1이 될 때까지\n",
    "어떠한 수 N이 주어질 때 다음 두 과정 중 하나를 반복적으로 수행한다.   \n",
    "단, 2번째 연산은 N이 K로 나누어질 때만 선택할 수 있다  \n",
    "- N에서 1을 뺀다   \n",
    "- N을 K로 나눈다  \n",
    "N,K 가 주어질때 N이 1이 될 때까지 1번 혹은 2번의 과정을 수행해야 하는 최소 횟수를 수하는 프로그램을 작성하시오"
   ]
  },
  {
   "cell_type": "code",
   "execution_count": 72,
   "metadata": {},
   "outputs": [
    {
     "name": "stdout",
     "output_type": "stream",
     "text": [
      "25,3\n",
      "6\n"
     ]
    }
   ],
   "source": [
    "## 단순하게 풀기\n",
    "\n",
    "n,k = map(int, input().split(','))\n",
    "\n",
    "total = 0\n",
    "while n > 1:\n",
    "    if n % k == 0:\n",
    "        n= n//k\n",
    "        total += 1\n",
    "    else:\n",
    "        n -= 1\n",
    "        total += 1\n",
    "print (total)"
   ]
  },
  {
   "cell_type": "code",
   "execution_count": 73,
   "metadata": {},
   "outputs": [
    {
     "name": "stdout",
     "output_type": "stream",
     "text": [
      "25,3\n",
      "6\n"
     ]
    }
   ],
   "source": [
    "## n이 큰수가 되었을 상황을 고려하여 풀기\n",
    "n,k = map(int, input().split(','))\n",
    "\n",
    "total = 0\n",
    "while n > k:\n",
    "    res = n % k\n",
    "    n -= res\n",
    "    total += res\n",
    "    if n % k ==0:\n",
    "        n = n // k\n",
    "        total += 1\n",
    "\n",
    "total += n-1\n",
    "print (total)"
   ]
  }
 ],
 "metadata": {
  "kernelspec": {
   "display_name": "Python 3",
   "language": "python",
   "name": "python3"
  }
 },
 "nbformat": 4,
 "nbformat_minor": 4
}
