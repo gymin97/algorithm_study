{
 "cells": [
  {
   "cell_type": "code",
   "execution_count": 9,
   "metadata": {},
   "outputs": [
    {
     "name": "stdout",
     "output_type": "stream",
     "text": [
      "218922995834555169026\n"
     ]
    }
   ],
   "source": [
    "## Top Down Fibonacci Function\n",
    "\n",
    "d = [0]*100 ## Memoization을 위한 리스트 초기화\n",
    "\n",
    "def fibo(x):\n",
    "    if x == 1 or x == 2:\n",
    "        return 1\n",
    "    \n",
    "    ## 이미 전에 계산한 적이 있다면 그 값을 반환\n",
    "    if d[x] != 0:\n",
    "        return d[x]\n",
    "    \n",
    "    d[x] = fibo(x-1) + fibo(x-2)\n",
    "    return d[x]\n",
    "    \n",
    "print (fibo(99))"
   ]
  },
  {
   "cell_type": "code",
   "execution_count": 11,
   "metadata": {},
   "outputs": [
    {
     "name": "stdout",
     "output_type": "stream",
     "text": [
      "354224848179261915075\n"
     ]
    }
   ],
   "source": [
    "## Bottom Up Fibonacci Function\n",
    "\n",
    "d = [0] *100\n",
    "\n",
    "d[1] = 1\n",
    "d[2] = 2\n",
    "n = 99\n",
    "\n",
    "for i in range(3, n+1):\n",
    "    d[i] = d[i-1] + d[i-2]\n",
    "\n",
    "print (d[n])"
   ]
  },
  {
   "cell_type": "markdown",
   "metadata": {},
   "source": [
    "### [이코테 217p] 1로 만들기\n",
    "\n",
    "**문제**    \n",
    "\n",
    "정수 X가 주어질때 X에 사용할 수 있는 연산은 다음과 같이 4가지이다.    \n",
    "\n",
    "X가 5로 나누어떨어지면, 5로 나눈다     \n",
    "X가 3으로 나누어떨어지면, 3으로 나눈다     \n",
    "X가 2로 나누어떨어지면, 2로 나눈다      \n",
    "X에서 1을 뺀다      \n",
    "       \n",
    "정수 X가 주어졌을때, 연산 4개를 적절히 사용하여 1을 만들으려한다. 연산을 사용하는 횟수의 최솟값을 출력하시오"
   ]
  },
  {
   "cell_type": "code",
   "execution_count": 21,
   "metadata": {},
   "outputs": [
    {
     "name": "stdout",
     "output_type": "stream",
     "text": [
      "26\n",
      "3\n"
     ]
    }
   ],
   "source": [
    "x = int(input())\n",
    "# DP 테이블\n",
    "d = [0] * (x+1)\n",
    "\n",
    "for i in range(2, x+1):\n",
    "\n",
    "    d[i] = d[i-1] + 1\n",
    "\n",
    "    if i % 2 == 0:\n",
    "        d[i] = min(d[i], d[i//2] + 1)\n",
    "\n",
    "    if i % 3 == 0:\n",
    "        d[i] = min(d[i], d[i//3] + 1)\n",
    "\n",
    "    if i % 5 == 0:\n",
    "        d[i] = min(d[i], d[i//5] + 1)\n",
    "        \n",
    "print(d[x])"
   ]
  },
  {
   "cell_type": "markdown",
   "metadata": {},
   "source": [
    "### [이코테 220p] 개미 전사\n",
    "\n",
    "**문제**      \n",
    "\n",
    "개미전사는 부족한 식량을 충당하고자 메뚜기 마을의 식량창고를 몰래 공격하려고 한다. 메뚜기 마을에는 여러 개의 식량창고가 있는데 식량창고는 일직선으로 이어져 있다. 각 식량창고에는 정해진 수의 식량을 저장하고 있ㄷ으며 개미 전사는 식량창고를 선택적으로 약탈하여 식량을 빼앗을 예정이다. 이때 메뚜기 정찰병들은 일직선상에 존재하는 식량창고 중에서 서로 인접한 식량창고가 공격받으면 바로 알아챌 수 있다. 따라서 개미 전사가 정찰병에게 들키지 않고 식량창고를 약탈하기 위해서는 최소한 한 칸 이상 떨어진 식량창고를 약탈해야 한다.       \n",
    " \n",
    " \n",
    "      \n",
    "예를 들어 식량창고 4개가 다음과 같이 존재한다고 가정하자.    \n",
    "{1, 3, 1, 5}        \n",
    "이때 개미 전사는 두 번째 식량창고와 네 번째 식량창고를 선택했을 때 최댓값인 총 8개의 식량을 빼앗을 수 있다. 개미 전사는 식량창고가 이렇게 일직선상일 때 최대한 많은 식량을 얻기를 원한다.          \n",
    "       \n",
    "개미 전사를 위해 식량창고 N개에 대한 정보가 주어졌을 때 얻을 수 있는 식량의 최댓값을 구하는 프로그램을 작성하시오."
   ]
  },
  {
   "cell_type": "code",
   "execution_count": 26,
   "metadata": {},
   "outputs": [
    {
     "name": "stdout",
     "output_type": "stream",
     "text": [
      "8\n"
     ]
    }
   ],
   "source": [
    "# n = int(input())\n",
    "# data = list(map(int, input().split()))\n",
    "n = 4\n",
    "data = [1,3,1,5]\n",
    "\n",
    "d = [0]*(n)\n",
    "\n",
    "d[0] = data[0]\n",
    "d[1] = max(data[0], data[1])\n",
    "\n",
    "for i in range(2,n):\n",
    "    d[i] = max(d[i-1], d[i-2] + data[i])\n",
    "    \n",
    "print(d[n-1])"
   ]
  }
 ],
 "metadata": {
  "kernelspec": {
   "display_name": "Python 3",
   "language": "python",
   "name": "python3"
  },
  "language_info": {
   "codemirror_mode": {
    "name": "ipython",
    "version": 3
   },
   "file_extension": ".py",
   "mimetype": "text/x-python",
   "name": "python",
   "nbconvert_exporter": "python",
   "pygments_lexer": "ipython3",
   "version": "3.8.5"
  }
 },
 "nbformat": 4,
 "nbformat_minor": 4
}
