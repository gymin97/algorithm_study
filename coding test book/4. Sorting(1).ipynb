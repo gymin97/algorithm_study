{
 "cells": [
  {
   "cell_type": "markdown",
   "metadata": {},
   "source": [
    "### [백준 10825](https://www.acmicpc.net/problem/10825) 국영수 \n",
    "\n",
    "\n",
    "도현이네 반 학생 N명의 이름과 국어, 영어, 수학 점수가 주어진다. 이때, 다음과 같은 조건으로 학생의 성적을 정렬하는 프로그램을 작성하시오.\n",
    "\n",
    "1. 국어 점수가 감소하는 순서로\n",
    "2. 국어 점수가 같으면 영어 점수가 증가하는 순서로\n",
    "3. 국어 점수와 영어 점수가 같으면 수학 점수가 감소하는 순서로\n",
    "4. 모든 점수가 같으면 이름이 사전 순으로 증가하는 순서로 (단, 아스키 코드에서 대문자는 소문자보다 작으므로 사전순으로 앞에 온다.)"
   ]
  },
  {
   "cell_type": "code",
   "execution_count": 5,
   "metadata": {},
   "outputs": [
    {
     "name": "stdout",
     "output_type": "stream",
     "text": [
      "Junkyu 50 60 100\n",
      "Sangkeun 80 60 50\n",
      "Sunyoung 80 70 100\n",
      "Soong 50 60 90\n",
      "Haebin 50 60 100\n"
     ]
    }
   ],
   "source": [
    "n = 5\n",
    "score_info = {}\n",
    "for i in range(n):\n",
    "    name, kr, math, eng = input().split()\n",
    "    score_info[name] = int(kr), int(math), int(eng)"
   ]
  },
  {
   "cell_type": "code",
   "execution_count": 6,
   "metadata": {},
   "outputs": [
    {
     "data": {
      "text/plain": [
       "{'Junkyu': (50, 60, 100),\n",
       " 'Sangkeun': (80, 60, 50),\n",
       " 'Sunyoung': (80, 70, 100),\n",
       " 'Soong': (50, 60, 90),\n",
       " 'Haebin': (50, 60, 100)}"
      ]
     },
     "execution_count": 6,
     "metadata": {},
     "output_type": "execute_result"
    }
   ],
   "source": [
    "score_info"
   ]
  },
  {
   "cell_type": "code",
   "execution_count": null,
   "metadata": {},
   "outputs": [],
   "source": []
  }
 ],
 "metadata": {
  "kernelspec": {
   "display_name": "Python 3",
   "language": "python",
   "name": "python3"
  },
  "language_info": {
   "codemirror_mode": {
    "name": "ipython",
    "version": 3
   },
   "file_extension": ".py",
   "mimetype": "text/x-python",
   "name": "python",
   "nbconvert_exporter": "python",
   "pygments_lexer": "ipython3",
   "version": "3.8.5"
  }
 },
 "nbformat": 4,
 "nbformat_minor": 4
}
