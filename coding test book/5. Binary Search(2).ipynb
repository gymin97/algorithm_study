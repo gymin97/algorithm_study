{
 "cells": [
  {
   "cell_type": "markdown",
   "metadata": {},
   "source": [
    "### [이코테 368p] 정렬된 배열에서 특정 수의 개수 구하기\n",
    "\n",
    "N개의 원소를 포함하고 있는 수열이 오름차순으로 정렬되어 있습니다. 이때 이 수열에서 x가 등장하는 횟수를 계산하세요.     \n",
    "단, 이 문제의 시간 복잡도 O(logN)으로 알고리즘을 설계하지 않으면 '시간 초과' 판정을 받습니다.      \n",
    "     \n",
    "**입력 예시**    \n",
    "7 2     \n",
    "1 1 2 2 2 3    \n",
    "\n",
    "**출력 예시**    \n",
    "3"
   ]
  },
  {
   "cell_type": "code",
   "execution_count": 65,
   "metadata": {},
   "outputs": [],
   "source": [
    "def bs_start(start, end, data, target):\n",
    "    mid = (start+end)//2\n",
    "    if start >end:\n",
    "        return None\n",
    "    \n",
    "    if data[mid] == target and (mid == 0 or data[mid-1] < target):\n",
    "        return mid\n",
    "    \n",
    "    elif data[mid] >= target:\n",
    "        return bs_start(start, mid-1, data, target)\n",
    "    \n",
    "    else:\n",
    "        return bs_start(mid+1, end, data, target)"
   ]
  },
  {
   "cell_type": "code",
   "execution_count": 66,
   "metadata": {},
   "outputs": [],
   "source": [
    "def bs_end(start, end, data, target):\n",
    "    mid = (start+end)//2\n",
    "    if start >end:\n",
    "        return None\n",
    "    \n",
    "    if data[mid] == target and (mid == end or data[mid+1] > target):\n",
    "        return mid\n",
    "        \n",
    "    elif data[mid] > target:\n",
    "        return bs_end(start, mid-1, data, target)\n",
    "    \n",
    "    else:\n",
    "        return bs_end(mid+1, end, data, target)"
   ]
  },
  {
   "cell_type": "code",
   "execution_count": 67,
   "metadata": {},
   "outputs": [
    {
     "name": "stdout",
     "output_type": "stream",
     "text": [
      "5\n"
     ]
    }
   ],
   "source": [
    "n,x = 7,2\n",
    "data = [1,1,2,2,2,3]\n",
    "start = 0\n",
    "end = n-1 \n",
    "\n",
    "first = bs_start(start, end, data, x)\n",
    "last = bs_end(start, end, data, x)\n",
    "\n",
    "print (last - first +1)"
   ]
  },
  {
   "cell_type": "code",
   "execution_count": 60,
   "metadata": {},
   "outputs": [
    {
     "name": "stdout",
     "output_type": "stream",
     "text": [
      "3\n"
     ]
    }
   ],
   "source": [
    "## 이진탐색 라이브러리 사용하기\n",
    "from bisect import bisect_left, bisect_right\n",
    "\n",
    "n,x = 7,2\n",
    "data = [1,1,2,2,2,3]\n",
    "\n",
    "\n",
    "first = bisect_left(data, x)\n",
    "last = bisect_right(data, x)\n",
    "\n",
    "print(last-first)"
   ]
  }
 ],
 "metadata": {
  "kernelspec": {
   "display_name": "Python 3",
   "language": "python",
   "name": "python3"
  },
  "language_info": {
   "codemirror_mode": {
    "name": "ipython",
    "version": 3
   },
   "file_extension": ".py",
   "mimetype": "text/x-python",
   "name": "python",
   "nbconvert_exporter": "python",
   "pygments_lexer": "ipython3",
   "version": "3.8.5"
  }
 },
 "nbformat": 4,
 "nbformat_minor": 4
}
