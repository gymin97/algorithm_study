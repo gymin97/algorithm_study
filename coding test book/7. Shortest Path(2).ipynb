{
 "cells": [
  {
   "cell_type": "markdown",
   "metadata": {},
   "source": [
    "### [이코테 262p] 전보\n",
    "\n",
    "어떤 나라에는 N개의 도시가 있다. 그리고 각 도시는 보내고자 하는 메시지가 있는 경우, 다른 도시로 전보를 보내서 다른 도시로 해당 메시지를 전송할 수 있다.     \n",
    "하지만 X라는 도시에서 Y라는 도시로 전보를 보내고자 한다면, 도시 X에서 Y로 향하는 통로가 설치되어 있어야 한다.     \n",
    "예를 들어 X에서 Y로 향하는 통로는 있지만, Y에서 X로 향하는 통로가 없다면 Y는 X로 메시지를 보낼 수 없다.      \n",
    "또한 통로를 거쳐 메시지를 보낼 때는 일정 시간이 소요된다.     \n",
    "      \n",
    "어느 날 C라는 도시에서 위급 상황이 발생했다. 그래서 최대한 많은 도시로 메시지를 보내고자 한다.         \n",
    "메시지는 도시 C에서 출발하여 각 도시 사이에 설치된 통로를 거쳐, 최대한 많이 퍼져나갈 것이다.       \n",
    "각 도시의 번호와 통로가 설치되어 있는 정보가 주어졌을 때, 도시 C에서 보낸 메시지를 받게 되는 도시의 개수는 총 몇 개이며 도시들이 모두 메시지를 받는 데까지 걸리는 시간은 얼마인지 계산하는 프로그램을 작성하시오. "
   ]
  },
  {
   "cell_type": "code",
   "execution_count": 4,
   "metadata": {},
   "outputs": [
    {
     "name": "stdout",
     "output_type": "stream",
     "text": [
      "3 2 1\n",
      "1 2 4\n",
      "1 3 2\n"
     ]
    }
   ],
   "source": [
    "## 힙을 이용한 다익스트라 \n",
    "\n",
    "import heapq\n",
    "\n",
    "INF = 1e9\n",
    "n,m, start= map(int,input().split())  ## 노드, 간선 갯수 \n",
    "graph = [[] for _ in range(n+1)]\n",
    "dist = [INF] * (n+1)\n",
    "    \n",
    "def dijkstra(start):\n",
    "    q = []\n",
    "    heapq.heappush(q, (0, start))\n",
    "    dist[start] = 0\n",
    "    while q:\n",
    "        d, now = heapq.heappop(q)\n",
    "        if dist[now] < d:\n",
    "            continue\n",
    "            \n",
    "        for info in graph[now]:\n",
    "            cost = d + info[1]\n",
    "            if cost < dist[info[0]]:\n",
    "                dist[info[0]] = cost\n",
    "                heapq.heappush(q,(cost, info[0]))\n",
    "                \n",
    "\n",
    "## 간선 정보 저장\n",
    "for i in range(m):\n",
    "    x, y, z = map(int, input().split())\n",
    "    graph[x].append((y,z))"
   ]
  },
  {
   "cell_type": "code",
   "execution_count": 5,
   "metadata": {},
   "outputs": [],
   "source": [
    "dijkstra(start)"
   ]
  },
  {
   "cell_type": "code",
   "execution_count": 13,
   "metadata": {},
   "outputs": [
    {
     "name": "stdout",
     "output_type": "stream",
     "text": [
      "4 2\n"
     ]
    }
   ],
   "source": [
    "print (max(dist[1:]), len(dist[1:])-dist[1:].count(0))  ## 시간복잡도 O(N)이 두개"
   ]
  },
  {
   "cell_type": "code",
   "execution_count": 15,
   "metadata": {},
   "outputs": [],
   "source": [
    "## 시간복잡도 O(N) 하나\n",
    "\n",
    "count = 0\n",
    "max_d = 0\n",
    "\n",
    "for dis in dist:\n",
    "    if dis != INF:\n",
    "        count += 1\n",
    "        if dis > max_d:\n",
    "            max_d = dis"
   ]
  },
  {
   "cell_type": "code",
   "execution_count": 17,
   "metadata": {
    "scrolled": true
   },
   "outputs": [
    {
     "name": "stdout",
     "output_type": "stream",
     "text": [
      "2 4\n"
     ]
    }
   ],
   "source": [
    "print (count-1, max_d)"
   ]
  },
  {
   "cell_type": "markdown",
   "metadata": {},
   "source": [
    "### [이코테 259p] 미래도시\n",
    "\n",
    "미래 도시에는 1번부터 N번까지의 회사가 있는데 특정 회사끼리는 서로 도로를 통해 연결되어 있다.       \n",
    "방문 판매원 A는 현재 1번 회사에 위치해 있으며, X번 회사에 방문해 물건을 판매하고자 한다.       \n",
    "미래 도시에서 특정 회사에 도착하기 위한 방법은 회사끼리 연결되어 있는 도로를 이용하는 방법이 유일하다.      \n",
    "또한 연결된 2개의 회사는 양방향으로 이동할 수 있다. 공중 미래 도시에서 특정 회사와 다른 회사가 도로로 연결되어 있다면, 정확히 1만큼의 시간으로 이동할 수 있다.        \n",
    "또한 오늘 방문 판매원 A는 기대하던 소개팅에도 참석하고자 한다. 소개팅의 상대는 K번 회사에 존재한다.         \n",
    "방문 판매원 A는 X번 회사에 가서 물건을 판매하기 전에 먼저 소개팅 상대의 회사에 찾아가서 함께 커피를 마실 예정이다.          \n",
    "따라서 방문 판매원 A는 1번 회사에서 출발하여 K번 회사를 방문한 뒤에 X번 회사로 가는 것이 목표다.         \n",
    "이때 방문 판매원 A는 가능한 한 빠르게 이동하고자 한다.      \n",
    "\n",
    "방문 판매원이 회사 사이를 이동하게 되는 최소 시간을 계산하는 프로그램을 작성하시오."
   ]
  },
  {
   "cell_type": "code",
   "execution_count": 20,
   "metadata": {},
   "outputs": [
    {
     "name": "stdout",
     "output_type": "stream",
     "text": [
      "5 7\n",
      "1 2\n",
      "1 3\n",
      "1 4\n",
      "2 4\n",
      "3 4\n",
      "3 5\n",
      "4 5\n"
     ]
    }
   ],
   "source": [
    "## 플로이드 워셜\n",
    "\n",
    "n, m = map(int, input().split())\n",
    "INF = 1e9\n",
    "graph = [[INF]*(n+1) for _ in range(n+1)]\n",
    "\n",
    "## 자기자신에게 가는 비용 = 0\n",
    "for i in range(1,n+1):\n",
    "    for j in range(1, n+1):\n",
    "        if i == j:\n",
    "            graph[i][j]=0\n",
    "            \n",
    "for _ in range(m):\n",
    "    a,b = map(int, input().split())\n",
    "    graph[a][b], graph[b][a] = 1,1\n",
    "\n",
    "for k in range(1, n+1):\n",
    "    for a in range(1, n+1):\n",
    "        for b in range(1, n+1):\n",
    "            graph[a][b] = min (graph[a][b], graph[a][k]+graph[k][b])"
   ]
  },
  {
   "cell_type": "code",
   "execution_count": 21,
   "metadata": {},
   "outputs": [
    {
     "name": "stdout",
     "output_type": "stream",
     "text": [
      "4 5\n"
     ]
    }
   ],
   "source": [
    "x, k = map(int, input().split())"
   ]
  },
  {
   "cell_type": "code",
   "execution_count": 25,
   "metadata": {},
   "outputs": [
    {
     "name": "stdout",
     "output_type": "stream",
     "text": [
      "3\n"
     ]
    }
   ],
   "source": [
    "result = graph[1][k]+graph[k][x]\n",
    "if result >= INF:\n",
    "    print (-1)\n",
    "else:\n",
    "    print (result)"
   ]
  }
 ],
 "metadata": {
  "kernelspec": {
   "display_name": "Python 3",
   "language": "python",
   "name": "python3"
  },
  "language_info": {
   "codemirror_mode": {
    "name": "ipython",
    "version": 3
   },
   "file_extension": ".py",
   "mimetype": "text/x-python",
   "name": "python",
   "nbconvert_exporter": "python",
   "pygments_lexer": "ipython3",
   "version": "3.8.5"
  }
 },
 "nbformat": 4,
 "nbformat_minor": 4
}
