{
 "cells": [
  {
   "cell_type": "markdown",
   "metadata": {},
   "source": [
    "### [이코테 217p] 1로 만들기\n",
    "\n",
    "**문제**    \n",
    "       \n",
    "N가지 종류의 화폐가 있을 때, 이 화폐들의 개수를 최소한으로 이용해 그 가치의 합이 M원이 되도록 하여라.각 화폐는 몇 개라도 사용할 수 있고, 구성은 같지만 순서만 다른 것은 같은 경우로 구분한다.        "
   ]
  },
  {
   "cell_type": "code",
   "execution_count": 4,
   "metadata": {},
   "outputs": [
    {
     "name": "stdout",
     "output_type": "stream",
     "text": [
      "2 15\n",
      "2\n",
      "3\n"
     ]
    }
   ],
   "source": [
    "n,m = map(int, input().split())\n",
    "cash = [int(input()) for _ in range(n)]"
   ]
  },
  {
   "cell_type": "code",
   "execution_count": 9,
   "metadata": {},
   "outputs": [
    {
     "name": "stdout",
     "output_type": "stream",
     "text": [
      "5\n"
     ]
    }
   ],
   "source": [
    "a = [10001] * (m+1)\n",
    "\n",
    "a[0]= 0 ## 0은 만들수없기때문에 0으로 초기화하고 연산에 사용\n",
    "for ca in cash: ## 각 화폐 하나씩 돌며 확인\n",
    "    for want in range(ca, m+1): ## 가지고 있는 화폐 이전의 값은 만들수없으므로 확인 X\n",
    "        if a[want-ca] != 10001: ## 현재위치에서 cash를 빼어 연산할 수 있다면\n",
    "            a[want] = min(a[want-ca]+1, a[want]) ## 현재 값 or 이전 연산값+1 보다 작은값\n",
    "            \n",
    "if a[m] == 10001:\n",
    "    print (-1)\n",
    "else:\n",
    "    print (a[m])"
   ]
  },
  {
   "cell_type": "markdown",
   "metadata": {},
   "source": [
    "### [이코테 223p] 바닥공사\n",
    "\n",
    "**문제**      \n",
    "\n",
    "가로의 길이가 N, 세로의 길이가 2인 직사각형 형태의 얇은 바닥이 있다. 태일이가 이 바닥을 1x2, 2x1, 2x2 덮개를 이용해 채울 때 바닥을 채우는 모든 경우의 수를 구하는 프로그램을 작성해라.\n",
    "\n",
    "단, 방법의 수를 796,796으로 나눈 나머지를 출력해야한다.\n"
   ]
  },
  {
   "cell_type": "code",
   "execution_count": 12,
   "metadata": {},
   "outputs": [
    {
     "name": "stdout",
     "output_type": "stream",
     "text": [
      "3\n",
      "5\n"
     ]
    }
   ],
   "source": [
    "n = int(input())\n",
    "dp = [0]*(n+1)\n",
    "\n",
    "dp[1] = 1\n",
    "dp[2] = 3 ## 앞에 아무것도 없을때 2*(1*2) , 2*2 + 앞에 타일이 있을때 2*1\n",
    "\n",
    "for i in range(3, n+1):\n",
    "    dp[i] = (dp[i-1] + dp[i-2]*2)%796796\n",
    "\n",
    "print (dp[n])"
   ]
  }
 ],
 "metadata": {
  "kernelspec": {
   "display_name": "Python 3",
   "language": "python",
   "name": "python3"
  },
  "language_info": {
   "codemirror_mode": {
    "name": "ipython",
    "version": 3
   },
   "file_extension": ".py",
   "mimetype": "text/x-python",
   "name": "python",
   "nbconvert_exporter": "python",
   "pygments_lexer": "ipython3",
   "version": "3.8.5"
  }
 },
 "nbformat": 4,
 "nbformat_minor": 4
}
