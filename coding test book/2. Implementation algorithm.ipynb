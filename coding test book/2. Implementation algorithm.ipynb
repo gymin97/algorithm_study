{
 "cells": [
  {
   "cell_type": "markdown",
   "metadata": {},
   "source": [
    "1. 상하좌우   \n",
    "여행가 A는 NxN 크기의 정사각형 공간 위에 서있다. 가장 왼쪽 위 좌표는 (1,1), 가장 오른쪽 아래 좌표는 (N,N)이다.   \n",
    "여행자에게는 계획표가 주어지며 계획표는 하나의 줄에 띄어쓰기를 기준으로 하여 L(왼쪽 한칸),R(오른쪽 한칸),U(위로 한칸),D(아래로 한칸) 가 적혀있다.   \n",
    "시작좌표는 항상 (1,1)이며, 지도를 벗어난 곳으로의 움직임은 무시한다고 할 때 A가 최종으로 도착하는 지점의 좌표를 출력하는 프로그램을 작성하시오."
   ]
  },
  {
   "cell_type": "code",
   "execution_count": 13,
   "metadata": {},
   "outputs": [],
   "source": [
    "def LRUD (data,N):\n",
    "    x = 1\n",
    "    y = 1\n",
    "\n",
    "    for plan in data:\n",
    "        if plan == 'L':\n",
    "            if x-1 > 0: \n",
    "                x -= 1\n",
    "            else: pass\n",
    "        elif plan == 'R':\n",
    "            if x+1 <= N: \n",
    "                x += 1\n",
    "            else: pass\n",
    "        elif plan == 'U':\n",
    "            if y-1 > 0: \n",
    "                y -= 1\n",
    "            else: pass\n",
    "        else:\n",
    "            if y+1 <= N: \n",
    "                y += 1\n",
    "            else: pass\n",
    "    return (str(x)+\" \"+str(y))"
   ]
  },
  {
   "cell_type": "code",
   "execution_count": 17,
   "metadata": {},
   "outputs": [
    {
     "name": "stdout",
     "output_type": "stream",
     "text": [
      "R R R U D D\n",
      "5\n"
     ]
    },
    {
     "data": {
      "text/plain": [
       "(4, 3)"
      ]
     },
     "execution_count": 17,
     "metadata": {},
     "output_type": "execute_result"
    }
   ],
   "source": [
    "data = list(map(str, input().split()))\n",
    "N = int(input())\n",
    "\n",
    "LRUD(data, N)"
   ]
  },
  {
   "cell_type": "markdown",
   "metadata": {},
   "source": [
    "2. 시각   \n",
    "자연수 N을 입력받아 00시 00분 00초 ~ N시 59분 59초까지 3이 한번이라도 들어간 시각의 빈도를 새는 프로그램을 작성하라"
   ]
  },
  {
   "cell_type": "code",
   "execution_count": 26,
   "metadata": {},
   "outputs": [],
   "source": [
    "## 완전 탐색법으로 풀이 \n",
    "## 00시 00분 00초 ~ 23시 59분 59초까지의 경우의 수는 86,400가지이기 때문에\n",
    "## 완전탐색법으로 풀이해도 시간제한 2초안에 풀이가 가능하다\n",
    "\n",
    "def count_3(N):\n",
    "    count = 0\n",
    "    for hour in range(int(N)+1):\n",
    "        for minute in range (60):\n",
    "            for sec in range(60):\n",
    "                if '3' in str(hour) + str(minute) + str(sec):\n",
    "                    count += 1\n",
    "    return (count)\n",
    "    "
   ]
  },
  {
   "cell_type": "code",
   "execution_count": 27,
   "metadata": {},
   "outputs": [
    {
     "data": {
      "text/plain": [
       "11475"
      ]
     },
     "execution_count": 27,
     "metadata": {},
     "output_type": "execute_result"
    }
   ],
   "source": [
    "count_3(5)"
   ]
  },
  {
   "cell_type": "markdown",
   "metadata": {},
   "source": [
    "3. 왕실의 나이트   \n",
    "행복 왕국의 왕실 정원은 체스판과 같은 8 × 8 좌표 평면이다. 왕실 정원의 특정한 한 칸에 나이트가 서있다.   \n",
    "나이트는 매우 충성스러운 신하로서 매일 무술을 연마한다      \n",
    "나이트는 말을 타고 있기 때문에 이동을 할 때는 L자 형태로만 이동할 수 있으며 정원 밖으로는 나갈 수 없다   \n",
    "나이트는 특정 위치에서 다음과 같은 2가지 경우로 이동할 수 있다\n",
    "\n",
    "    수평으로 두 칸 이동한 뒤에 수직으로 한 칸 이동하기  \n",
    "    수직으로 두 칸 이동한 뒤에 수평으로 한 칸 이동하기   \n",
    "    이처럼 8 × 8 좌표 평면상에서 나이트의 위치가 주어졌을 때 나이트가 이동할 수 있는 경우의 수를 출력하는 프로그램을 작성하라.   \n",
    "    왕실의 정원에서   \n",
    "    - 행 위치를 표현할 때는 1부터 8로 표현하며,   \n",
    "    - 열 위치를 표현할 때는 a 부터 h로 표현한다   \n",
    "       \n",
    "\n",
    "- a1에 있을 때 이동할 수 있는 경우의 수는 2가지이다"
   ]
  },
  {
   "cell_type": "code",
   "execution_count": 42,
   "metadata": {},
   "outputs": [],
   "source": [
    "def k_night(data):\n",
    "    row = [1,2,3,4,5,6,7,8]\n",
    "    col = ['a','b','c','d','e','f','g','h']\n",
    "\n",
    "    x = col.index(data[0])+1\n",
    "    y = int(data[1])\n",
    "    count = 0\n",
    "    if (x+2) <= 8:\n",
    "        if y-1 > 0:\n",
    "            count += 1\n",
    "        if y+1 <= 8:\n",
    "            count += 1\n",
    "\n",
    "    if (x-2) > 0 :\n",
    "        if y-1 > 0:\n",
    "            count += 1\n",
    "        if y+1 <= 8:\n",
    "            count += 1\n",
    "\n",
    "    if (y+2) <= 8 :\n",
    "        if x-1 > 0:\n",
    "            count += 1\n",
    "        if x+1 <= 8:\n",
    "            count += 1\n",
    "\n",
    "    if (y-2) > 0 :\n",
    "        if x-1 > 0:\n",
    "            count += 1\n",
    "        if x+1 <= 8:\n",
    "            count += 1\n",
    "    return count "
   ]
  },
  {
   "cell_type": "code",
   "execution_count": 43,
   "metadata": {},
   "outputs": [
    {
     "name": "stdout",
     "output_type": "stream",
     "text": [
      "a1\n"
     ]
    },
    {
     "data": {
      "text/plain": [
       "2"
      ]
     },
     "execution_count": 43,
     "metadata": {},
     "output_type": "execute_result"
    }
   ],
   "source": [
    "data = input()\n",
    "k_night(data)"
   ]
  },
  {
   "cell_type": "code",
   "execution_count": 44,
   "metadata": {},
   "outputs": [],
   "source": [
    "## if문 많이 사용하지 않는 방법\n",
    "## col 배열을 만들고 index를 추출하는 것 대신 아스키 코드를 사용할 수도 있다\n",
    "# y = int(ord(data[0]))- int(ord('a')) +1\n",
    "\n",
    "def sol_knight(data):\n",
    "    row = [1,2,3,4,5,6,7,8]\n",
    "    col = ['a','b','c','d','e','f','g','h']\n",
    "\n",
    "    x = col.index(data[0])+1\n",
    "    y = int(data[1])\n",
    "    count = 0\n",
    "\n",
    "    ## 이동할 수 있는 8개의 방법\n",
    "    steps = [(-2,-1), (-2, 1), (2,-1), (2,1), (-1,-2), (-1, 2), (1,-2), (1,2)]\n",
    "\n",
    "    for step in steps:\n",
    "        new_x = x + step[0]\n",
    "        new_y = y + step[1]\n",
    "        if 1 <= new_x <=8 and 1 <= new_y <= 8:\n",
    "            count += 1\n",
    "    return (count)"
   ]
  },
  {
   "cell_type": "code",
   "execution_count": 45,
   "metadata": {},
   "outputs": [
    {
     "name": "stdout",
     "output_type": "stream",
     "text": [
      "a1\n"
     ]
    },
    {
     "data": {
      "text/plain": [
       "2"
      ]
     },
     "execution_count": 45,
     "metadata": {},
     "output_type": "execute_result"
    }
   ],
   "source": [
    "data = input()\n",
    "sol_knight(data)"
   ]
  },
  {
   "cell_type": "markdown",
   "metadata": {},
   "source": [
    "4. 게임 개발   \n",
    "    현민이는 게임 캐릭터가 맵 안에서 움직이는 시스템을 개발 중이다. 캐릭터가 있는 장소는 1 X 1 크기의 정사각형으로 이뤄진 N X M 크기의 직사각형으로, 각각의 칸은 육지 또는 바다이다. 캐릭터는 동서남북 중 한 곳을 바라본다.   \n",
    "    \n",
    "    맵의 각 칸은 (A, B)로 나타낼 수 있고, A는 북쪽으로부터 떨어진 칸의 개수, B는 서쪽으로부터 떨어진 칸의 개수이다. 캐릭터는 상하좌우로 움직일 수 있고, 바다로 되어 있는 공간에는 갈 수 없다. 캐릭터의 움직임을 설정하기 위해 정해 놓은 매뉴얼은 이러하다.   \n",
    "\n",
    "    현재 위치에서 현재 방향을 기준으로 왼쪽 방향(반시계 방향으로 90도 회전한 방향)부터 차례대로 갈 곳을 정한다.\n",
    "\n",
    "    캐릭터의 바로 왼쪽 방향에 아직 가보지 않은 칸이 존재한다면, 왼쪽 방향으로 횐전한 다음 왼쪽으로 한 칸을 전진한다. 왼쪽 방향에 가보지 않은 칸이 없다면, 왼쪽 방향으로 회전만 수행하고 1단계로 돌아간다.\n",
    "\n",
    "    만약 네 방향 모두 이미 가본 칸이거나 바다로 되어 있는 칸인 경우에는, 바라보는 방향을 유지한 채로 한 칸 뒤로 가고 1단계로 돌아간다. 단, 이때 뒤쪽 방향이 바다인 칸이라 뒤로 갈 수 없는 경우에는 움직임을 멈춘다.\n",
    "\n",
    "    현민이는 위 과정을 반복적으로 수행하면서 캐릭터의 움직임에 이상이 있는지 테스트하려고 한다. 메뉴얼에 따라 캐릭터를 이동시킨 뒤에, 캐릭터가 방문한 칸의 수를 출력하는 프로그램을 만드시오.\n",
    "    \n",
    "    **입력**\n",
    "    - 첫째 줄에 맵의 세로 크기 N과 가로 크기 M을 공백으로 구분하여 입력한다.\n",
    "    (3 <= N, M <= 50)\n",
    "\n",
    "    - 둘째 줄에 게임 캐릭터가 있는 칸의 좌표 (A, B)와 바라보는 방햔 d가 각각 서로 공백으로 구분하여 주어진다. 방향 d의 값으로는 다음과 같이 4가지가 존재한다.\n",
    "\n",
    "    0 : 북쪽   \n",
    "    1 : 동쪽   \n",
    "    2 : 남쪽   \n",
    "    3 : 서쪽     \n",
    "\n",
    "    - 셋째 줄부터 맵이 육지인지 바다인지에 대한 정보가 주어진다. N개의 줄에 맵의 상태가 북쪽부터 남쪽 순서대로, 각 줄의 데이터는 서쪽부터 동쪽 순서대로 주어진다. 맵의 외각은 항상 바다로 되어 있다.\n",
    "\n",
    "    0 : 육지   \n",
    "    1 : 바다   \n",
    "    처음에 게임 캐릭터가 위치한 칸의 상태는 항상 육지이다.\n",
    "    \n",
    "   **출력**   \n",
    "    첫째 줄에 이동을 마친 후 캐릭터가 방문한 칸의 수를 출력한다.\n",
    "\n",
    "    *입력 예시*   \n",
    "    4 4   \n",
    "    1 1 0 // (1, 1)에 북쪽(0)을 바라보고 서 있는 캐릭터    \n",
    "    1 1 1 1   \n",
    "    1 0 0 1   \n",
    "    1 1 0 1   \n",
    "    1 1 1 1   \n",
    "\n",
    "    *출력 예시*    \n",
    "    3"
   ]
  },
  {
   "cell_type": "code",
   "execution_count": 65,
   "metadata": {},
   "outputs": [],
   "source": [
    "## 왼쪽으로 회전\n",
    "def turn_left(): \n",
    "    global direction \n",
    "    direction -= 1\n",
    "    if direction == -1:\n",
    "        direction = 3\n",
    "        \n",
    "def dev_game(x,y, array_map):\n",
    "    ## 북 동 남 서 \n",
    "    dx = [0,1,0,-1]  \n",
    "    dy = [-1,0,1,0] \n",
    "\n",
    "    count = 1 ## 처음 위치한 곳도 들린곳으로 처리\n",
    "    turn = 0\n",
    "    array_map[x][y] += 3 ## 육지인곳에 들리면 0,1이 아닌 다른 값이 되도록 설정\n",
    "\n",
    "    while True: \n",
    "        turn_left()  ## 일단 회전\n",
    "        new_x, new_y = x + dx[direction], y + dy[direction]\n",
    "        if array_map[new_x][new_y] == 0:  ## 갈 수 있는곳이라면 이동\n",
    "            array_map[new_x][new_y] += 3  ## 1이 되지 않는 값을 더한다\n",
    "            x, y = new_x, new_y\n",
    "            count += 1\n",
    "            turn = 0\n",
    "\n",
    "        else: ## 갈 수 없는 곳 (이미 들렀거나 바다)에서는 회전만\n",
    "            turn += 1\n",
    "\n",
    "        if turn == 4:  ## 4가지 방향에서 모두 갈 수 없을때\n",
    "            new_x, new_y = x+dx[(direction+2)%4], y+dy[(direction+2)%4] ## 뒤로 1칸 후진\n",
    "            ## 후진 가능할때 (바다가 아닐 때) 이동 but 이미 가본 곳이기 때문에 카운트 하지 않음\n",
    "            if array_map[new_x][new_y] != 1:\n",
    "                x, y = new_x, new_y\n",
    "            else: ## 뒤에가 바다일때 종료\n",
    "                break\n",
    "            turn = 0\n",
    "    return count"
   ]
  },
  {
   "cell_type": "code",
   "execution_count": 66,
   "metadata": {},
   "outputs": [
    {
     "data": {
      "text/plain": [
       "3"
      ]
     },
     "execution_count": 66,
     "metadata": {},
     "output_type": "execute_result"
    }
   ],
   "source": [
    "n,m = 4,4\n",
    "x,y, direction = 1,1,0\n",
    "array_map = [[1,1,1,1],\n",
    "            [1,0,0,1],\n",
    "            [1,1,0,1],\n",
    "            [1,1,1,1]]\n",
    "\n",
    "dev_game(x,y, array_map)"
   ]
  }
 ],
 "metadata": {
  "kernelspec": {
   "display_name": "Python 3",
   "language": "python",
   "name": "python3"
  },
  "language_info": {
   "codemirror_mode": {
    "name": "ipython",
    "version": 3
   },
   "file_extension": ".py",
   "mimetype": "text/x-python",
   "name": "python",
   "nbconvert_exporter": "python",
   "pygments_lexer": "ipython3",
   "version": "3.8.5"
  }
 },
 "nbformat": 4,
 "nbformat_minor": 4
}
