{
 "cells": [
  {
   "cell_type": "markdown",
   "metadata": {},
   "source": [
    "### [이코테 381p] 못생긴 수\n",
    "\n",
    "**문제**    \n",
    "       \n",
    "못생긴 수란 오직 2,3,5만을 소인수로 가지는 수를 의미합니다.          \n",
    "다시 말해, 오직 2,3,5를 약수로 가지는 합성수를 의미합니다. 1은 못생긴수라고 가정합니다. 따라서 못생긴 수들은 {1,2,3,4,5,6,8,9,10,12,15...}순으로 이어집니다. 이때 n번째 못생긴수를 찾는 프로그램을 작성하세요      \n",
    "\n",
    "**입력 조건**    \n",
    "1<= n <= 1,000"
   ]
  },
  {
   "cell_type": "code",
   "execution_count": 77,
   "metadata": {},
   "outputs": [
    {
     "name": "stdout",
     "output_type": "stream",
     "text": [
      "10\n"
     ]
    }
   ],
   "source": [
    "n = int(input())"
   ]
  },
  {
   "cell_type": "code",
   "execution_count": 71,
   "metadata": {},
   "outputs": [],
   "source": [
    "def ugly(num):\n",
    "    if num % 2 == 0:\n",
    "        num = ugly(num//2)\n",
    "    if num % 3 == 0:\n",
    "        num = ugly (num//3)\n",
    "    if num %5 == 0:\n",
    "        num = ugly(num //5) \n",
    "    if num == 1:\n",
    "        return num\n",
    "    else:\n",
    "        return -1"
   ]
  },
  {
   "cell_type": "code",
   "execution_count": 72,
   "metadata": {},
   "outputs": [],
   "source": [
    "a = [1]\n",
    "cnt = 1\n",
    "i = 2\n",
    "while cnt < n:\n",
    "    num = ugly(i)\n",
    "    if num == -1:\n",
    "        pass\n",
    "    else:\n",
    "        cnt += 1\n",
    "        a.append(i)\n",
    "    i += 1\n",
    "    if cnt == n:\n",
    "        break"
   ]
  },
  {
   "cell_type": "code",
   "execution_count": 73,
   "metadata": {
    "scrolled": true
   },
   "outputs": [
    {
     "data": {
      "text/plain": [
       "12"
      ]
     },
     "execution_count": 73,
     "metadata": {},
     "output_type": "execute_result"
    }
   ],
   "source": [
    "a[n-1]"
   ]
  },
  {
   "cell_type": "code",
   "execution_count": 78,
   "metadata": {},
   "outputs": [
    {
     "name": "stdout",
     "output_type": "stream",
     "text": [
      "12\n"
     ]
    }
   ],
   "source": [
    "## 책 풀이 보텀업 방식\n",
    "\n",
    "ugly = [0] * n # 못생긴 수를 담기 위한 테이블 (1차원 DP 테이블)\n",
    "ugly[0] = 1 # 첫 번째 못생긴 수는 1\n",
    "\n",
    "# 2배, 3배, 5배를 위한 인덱스\n",
    "i2 = i3 = i5 = 0\n",
    "# 처음에 곱셈 값을 초기화\n",
    "next2, next3, next5 = 2, 3, 5\n",
    "\n",
    "# 1부터 n까지의 못생긴 수들을 찾기\n",
    "for l in range(1, n):\n",
    "    # 가능한 곱셈 결과 중에서 가장 작은 수를 선택\n",
    "    ugly[l] = min(next2, next3, next5)\n",
    "    # 인덱스에 따라서 곱셈 결과를 증가\n",
    "    if ugly[l] == next2:\n",
    "        i2 += 1\n",
    "        next2 = ugly[i2] * 2\n",
    "    if ugly[l] == next3:\n",
    "        i3 += 1\n",
    "        next3 = ugly[i3] * 3\n",
    "    if ugly[l] == next5:\n",
    "        i5 += 1\n",
    "        next5 = ugly[i5] * 5\n",
    "\n",
    "# n번째 못생긴 수를 출력\n",
    "print(ugly[n - 1])"
   ]
  },
  {
   "cell_type": "markdown",
   "metadata": {},
   "source": [
    "### [이코테 382p] 편집거리\n",
    "\n",
    "**문제**      \n",
    "\n",
    "두 개의 문자열 A와 B가 주어졌을 때, 문자열 A를 편집하여 문자열 B로 만들고자 합니다. 문자열 A를 편집할 때는 다음의 세 연산 중에서 한 번에 하나씩 선택하여 이용할 수 있습니다.   \n",
    "\n",
    " \n",
    "    \n",
    "삽입(Insert): 특정한 위치에 하나의 문자를 삽입합니다.       \n",
    "삭제(Remove): 특정한 위치에 있는 하나의 문자를 삭제합니다.       \n",
    "교체(Replace): 특정한 위치에 있는 하나의 문자를 다른 문자로 교체합니다.       \n",
    "이때 편집 거리란 문자열 A를 편집하여 문자열 B로 만들기 위해 사용한 연산의 수를 의미합니다. 문자열 A를 문자열 B로 만드는 최소 편집 거리를 계산하는 프로그램을 작성하세요. 예를 들어 \"sunday\"와 \"saturday\"의 최소 편집 거리는 3입니다.         \n"
   ]
  },
  {
   "cell_type": "code",
   "execution_count": 79,
   "metadata": {},
   "outputs": [
    {
     "name": "stdout",
     "output_type": "stream",
     "text": [
      "3\n"
     ]
    }
   ],
   "source": [
    "str1 = \"sunday\"\n",
    "str2 = \"saturday\"\n",
    " \n",
    "n = len(str1)\n",
    "m = len(str2)\n",
    "dp = [[0] * (1+m) for _ in range(1+n)]\n",
    "for i in range(1, n+1):\n",
    "    dp[i][0] = i\n",
    "for j in range(1, m+1):\n",
    "    dp[0][j] = j\n",
    "for i in range(1, n+1):\n",
    "    for j in range(1, m+1):\n",
    "        if str1[i-1] == str2[j-1]:\n",
    "            dp[i][j] = dp[i-1][j-1]\n",
    "        else:\n",
    "            dp[i][j] = min(dp[i][j-1], dp[i-1][j-1], dp[i-1][j]) + 1\n",
    "\n",
    "print(dp[n][m])"
   ]
  }
 ],
 "metadata": {
  "kernelspec": {
   "display_name": "Python 3",
   "language": "python",
   "name": "python3"
  },
  "language_info": {
   "codemirror_mode": {
    "name": "ipython",
    "version": 3
   },
   "file_extension": ".py",
   "mimetype": "text/x-python",
   "name": "python",
   "nbconvert_exporter": "python",
   "pygments_lexer": "ipython3",
   "version": "3.8.5"
  }
 },
 "nbformat": 4,
 "nbformat_minor": 4
}
