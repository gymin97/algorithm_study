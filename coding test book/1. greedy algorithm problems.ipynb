{
 "cells": [
  {
   "cell_type": "markdown",
   "metadata": {},
   "source": [
    "1. 모험가 길드\n",
    "- 각 모험가는 공포도 X를 가지고 있다. 안전한 모험가 길드를 구성하고자 공포도가 X인 모험가는 반드시 X이상의 인원과 길드를 만들어 여행을 떠나야합니다. 여행을 떠날 수 있는 최대 그룹수는 구하는 프로그램을 작성하시오 "
   ]
  },
  {
   "cell_type": "code",
   "execution_count": 6,
   "metadata": {},
   "outputs": [],
   "source": [
    "def count_group(data):\n",
    "    data.sort()\n",
    "    cnt = 0\n",
    "    group = 0\n",
    "    for x in data:\n",
    "        cnt += 1\n",
    "        if x == cnt:\n",
    "            group += 1\n",
    "            cnt = 0\n",
    "    return group"
   ]
  },
  {
   "cell_type": "code",
   "execution_count": 7,
   "metadata": {},
   "outputs": [
    {
     "name": "stdout",
     "output_type": "stream",
     "text": [
      "2,3,1,2,2\n"
     ]
    },
    {
     "data": {
      "text/plain": [
       "2"
      ]
     },
     "execution_count": 7,
     "metadata": {},
     "output_type": "execute_result"
    }
   ],
   "source": [
    "data = list(map(int, input().split(',')))\n",
    "count_group(data)"
   ]
  },
  {
   "cell_type": "markdown",
   "metadata": {},
   "source": [
    "2. 곱하기 혹은 더하기   \n",
    "각 자리가 숫자로만 이루어진 문자열 S가 주어질 때, 왼쪽에서 오른쪽으로 하나씩 모든 숫자를 확인하며 숫자 사이에 '+' 혹운 '* ' 연산자를 넣어 결과적으로 만들 수 있는 가장 큰 수를 구하는 프로그램을 작성하시오"
   ]
  },
  {
   "cell_type": "code",
   "execution_count": 19,
   "metadata": {},
   "outputs": [],
   "source": [
    "## 나의 풀이\n",
    "## 현재값과 다음값의 곱/합을 비교하여 더 큰것 선택하며 연산\n",
    "def sum_or_multiply(data):\n",
    "    data.sort()\n",
    "    plus= data[0]+data[1]\n",
    "    mul = data[0]*data[1]\n",
    "    if plus >mul :\n",
    "        result = plus\n",
    "    else:\n",
    "        result = mul\n",
    "\n",
    "    for num in data[2:]:\n",
    "        if result*num > result+num:\n",
    "            result *= num\n",
    "        else: \n",
    "            result += num\n",
    "    return result"
   ]
  },
  {
   "cell_type": "code",
   "execution_count": 20,
   "metadata": {},
   "outputs": [
    {
     "name": "stdout",
     "output_type": "stream",
     "text": [
      "0,2,4,9,8\n"
     ]
    },
    {
     "data": {
      "text/plain": [
       "576"
      ]
     },
     "execution_count": 20,
     "metadata": {},
     "output_type": "execute_result"
    }
   ],
   "source": [
    "data = list(map(int, input().split(',')))\n",
    "sum_or_multiply(data)"
   ]
  },
  {
   "cell_type": "code",
   "execution_count": 76,
   "metadata": {},
   "outputs": [],
   "source": [
    "## 0, 1의 경우 더하는게 이득\n",
    "## 나머지 숫자는 곱하는게 이득\n",
    "def summary_sum_or_multiply(data):\n",
    "    result = data[0]\n",
    "    for num in data[1:]:\n",
    "        if num <= 1 or result <= 1 :\n",
    "            result += num\n",
    "        else:\n",
    "            result *= num\n",
    "    return result"
   ]
  },
  {
   "cell_type": "code",
   "execution_count": 77,
   "metadata": {},
   "outputs": [
    {
     "name": "stdout",
     "output_type": "stream",
     "text": [
      "0,2,4,9,8\n"
     ]
    },
    {
     "data": {
      "text/plain": [
       "576"
      ]
     },
     "execution_count": 77,
     "metadata": {},
     "output_type": "execute_result"
    }
   ],
   "source": [
    "data = list(map(int, input().split(',')))\n",
    "summary_sum_or_multiply(data)"
   ]
  },
  {
   "cell_type": "markdown",
   "metadata": {},
   "source": [
    "3. 문자열 뒤집기   \n",
    "다솜이는 0과 1로만 이루어진 문자열 S를 가지고 있다. 이 문자열 S를 모두 같은 수로만 이루어져 있도록 하려고 할때, 다솜이가 할 수 있는 행동은 S에서 연속된 하나 이상의 숫자를 잡고 모두 뒤집는 것 입니다. (0을 1로, 1을 0으로)   \n",
    "예를 들어 S= 0001100일때는 4,5번째 수를 뒤집으면 한번만에 S= 0000000이 되어 모두 같은 수로 이루어진 S를 만들 수 있습니다.    \n",
    "문자열 S가 주어졌을때, 다솜이가 해야 하는 최소 횟수를 출력하세요. "
   ]
  },
  {
   "cell_type": "code",
   "execution_count": 36,
   "metadata": {},
   "outputs": [],
   "source": [
    "def flip_s(data):\n",
    "    cnt_0 = 0\n",
    "    cnt_1 = 0\n",
    "\n",
    "    if data[0] == 0:\n",
    "        cnt_0 += 1\n",
    "    else:\n",
    "        cnt_1 += 1\n",
    "\n",
    "    for i, num in enumerate (data[:-1]):\n",
    "        if num != data[i+1]:\n",
    "            if data[i+1] == 0:\n",
    "                cnt_0 += 1\n",
    "            else:\n",
    "                cnt_1 += 1\n",
    "        else:\n",
    "            pass\n",
    "    return (min(cnt_0, cnt_1))"
   ]
  },
  {
   "cell_type": "code",
   "execution_count": 35,
   "metadata": {},
   "outputs": [
    {
     "name": "stdout",
     "output_type": "stream",
     "text": [
      "0,0,0,1,1,0,0\n"
     ]
    },
    {
     "data": {
      "text/plain": [
       "1"
      ]
     },
     "execution_count": 35,
     "metadata": {},
     "output_type": "execute_result"
    }
   ],
   "source": [
    "data = list(map(int, input().split(',')))\n",
    "flip_s(data)"
   ]
  },
  {
   "cell_type": "markdown",
   "metadata": {},
   "source": [
    "4. 만들 수 없는 금액   \n",
    "N개의 동전을 이용하여 만들 수 없는 양의 정수 금액 중 최솟값을 구하는 프로그램을 작성하시오.   \n",
    "N = 5이고, 동전이 각각 3원 2원 1원 1원 9원짜리 동전이라고 가정했을때 만들 수 없는 가장 작은 양수 금액은 8원입니다.   "
   ]
  },
  {
   "cell_type": "code",
   "execution_count": 41,
   "metadata": {},
   "outputs": [],
   "source": [
    "## 숫자를 비교하며 가지고 있는 동전의 값을 조사 \n",
    "## -> 1,2,4원이 있다면 최대 1+2+4=7원까지 만들 수 있고 만들 수 없는 가장 작은 양의 정수는 8원\n",
    "\n",
    "def cant_price(data):\n",
    "    data.sort()\n",
    "    target = 1 # 가장 작은 정수 1원으로 가정\n",
    "\n",
    "    for x in data:\n",
    "        if target < x:  ## 더 작은 값이 있나 조사\n",
    "            break\n",
    "        target+=x  ## 없다면 최대로 만들 수 있는 값으로 설정\n",
    "    return (target)"
   ]
  },
  {
   "cell_type": "code",
   "execution_count": 42,
   "metadata": {},
   "outputs": [
    {
     "name": "stdout",
     "output_type": "stream",
     "text": [
      "3,2,1,1,9\n"
     ]
    },
    {
     "data": {
      "text/plain": [
       "8"
      ]
     },
     "execution_count": 42,
     "metadata": {},
     "output_type": "execute_result"
    }
   ],
   "source": [
    "data = list(map(int, input().split(',')))\n",
    "cant_price(data)"
   ]
  },
  {
   "cell_type": "markdown",
   "metadata": {},
   "source": [
    "5. 볼링공 고르기   \n",
    "공의 순서와 무게가 정해져 있을때, A,B가 각각 다른 무게의 볼링공을 골라야한다.   \n",
    "이때 두 사람이 고를 수 있는 볼링공 번호의 조합을 구하는 프로그램을 작성하시오."
   ]
  },
  {
   "cell_type": "code",
   "execution_count": 47,
   "metadata": {},
   "outputs": [],
   "source": [
    "def choice_ball (data):\n",
    "    total = 0\n",
    "    for num, now in enumerate (data):\n",
    "        for weight in data[num:]:\n",
    "            if now != weight:\n",
    "                total += 1\n",
    "    return total"
   ]
  },
  {
   "cell_type": "code",
   "execution_count": 48,
   "metadata": {},
   "outputs": [
    {
     "name": "stdout",
     "output_type": "stream",
     "text": [
      "1,3,2,3,2\n"
     ]
    },
    {
     "data": {
      "text/plain": [
       "8"
      ]
     },
     "execution_count": 48,
     "metadata": {},
     "output_type": "execute_result"
    }
   ],
   "source": [
    "data = list(map(int, input().split(',')))\n",
    "choice_ball(data)"
   ]
  },
  {
   "cell_type": "markdown",
   "metadata": {},
   "source": [
    "6. 무지의 먹방 라이브   \n",
    "그냥 먹방을 하면 다른 방송과 차별성이 없기 때문에 무지는 아래와 같이 독특한 방식을 생각해냈다.   \n",
    "   \n",
    "    회전판에 먹어야 할 N 개의 음식이 있다.   \n",
    "    각 음식에는 1부터 N 까지 번호가 붙어있으며, 각 음식을 섭취하는데 일정 시간이 소요된다.   \n",
    "    무지는 다음과 같은 방법으로 음식을 섭취한다.   \n",
    "\n",
    "    무지는 1번 음식부터 먹기 시작하며, 회전판은 번호가 증가하는 순서대로 음식을 무지 앞으로 가져다 놓는다.   \n",
    "    마지막 번호의 음식을 섭취한 후에는 회전판에 의해 다시 1번 음식이 무지 앞으로 온다.   \n",
    "    무지는 음식 하나를 1초 동안 섭취한 후 남은 음식은 그대로 두고, 다음 음식을 섭취한다.   \n",
    "    다음 음식이란, 아직 남은 음식 중 다음으로 섭취해야 할 가장 가까운 번호의 음식을 말한다.   \n",
    "    회전판이 다음 음식을 무지 앞으로 가져오는데 걸리는 시간은 없다고 가정한다.   \n",
    "    무지가 먹방을 시작한 지 K 초 후에 네트워크 장애로 인해 방송이 잠시 중단되었다.   \n",
    "    무지는 네트워크 정상화 후 다시 방송을 이어갈 때, 몇 번 음식부터 섭취해야 하는지를 알고자 한다.   \n",
    "    각 음식을 모두 먹는데 필요한 시간이 담겨있는 배열 food_times, 네트워크 장애가 발생한 시간 K 초가 매개변수로 주어질 때 몇 번 음식부터 다시 섭취하면 되는지 return 하도록 solution 함수를 완성하라.   \n",
    "\n",
    "    - 제한사항   \n",
    "    food_times 는 각 음식을 모두 먹는데 필요한 시간이 음식의 번호 순서대로 들어있는 배열이다.   \n",
    "    k 는 방송이 중단된 시간을 나타낸다.   \n",
    "    만약 더 섭취해야 할 음식이 없다면 -1을 반환하면 된다.   \n",
    "    \n",
    "    - 입출력 예   \n",
    "    food_times\tk\tresult   \n",
    "    [3, 1, 2]\t5\t1   \n",
    "       \n",
    "    설명    \n",
    "    0 ~ 1초 동안에 1번 음식을 섭취한다. 남은 시간은 [2,1,2] 이다.   \n",
    "    1 ~ 2초 동안 2번 음식을 섭취한다. 남은 시간은 [2,0,2] 이다.   \n",
    "    2 ~ 3초 동안 3번 음식을 섭취한다. 남은 시간은 [2,0,1] 이다.   \n",
    "    3 ~ 4초 동안 1번 음식을 섭취한다. 남은 시간은 [1,0,1] 이다.   \n",
    "    4 ~ 5초 동안 (2번 음식은 다 먹었으므로) 3번 음식을 섭취한다. 남은 시간은 [1,0,0] 이다.   \n",
    "    5초에서 네트워크 장애가 발생했다. 1번 음식을 섭취해야 할 때 중단되었으므로, 장애 복구 후에 1번 음식부터 다시 먹기 시작하면 된다.   "
   ]
  },
  {
   "cell_type": "markdown",
   "metadata": {},
   "source": [
    "- 효율성 테스트가 있는 문제이기 때문에 우선순위 큐를 이용하여 풀어야한다.\n",
    "- 아직은 우선순위 큐에 대해 학습하기 전이기 때문에 정확성 테스트 문제를 다 맞추는것을 목표로 하였다.\n",
    "- 100% 맘에 드는 소스코드는 아니지만 일단 정확성테스트는 다 맞았으니 올려두고 힙 학습 후 다시 풀어보기로 하였다\n",
    "   \n",
    "   \n",
    "- 생각보다 처리해야할 예외가 많아서 시간이 오래걸렸다 ㅜㅜ "
   ]
  },
  {
   "cell_type": "code",
   "execution_count": 74,
   "metadata": {},
   "outputs": [],
   "source": [
    "def solution(food_times, k):\n",
    "    answer = 0\n",
    "    n = len(food_times)\n",
    "    \n",
    "    if k >= sum(food_times):  ## 모든 접시에 음식이 없을 때\n",
    "        return -1 \n",
    "    elif k <= n: ## 모든 접시의 음식을 한번씩 다 먹기도 전에 네트워크 오류가 났을 때\n",
    "        return (k+1)%n\n",
    "    \n",
    "    time = 0\n",
    "    while k > 0:\n",
    "        eat = time % n\n",
    "        if food_times[eat] != 0:\n",
    "            food_times[eat] -= 1\n",
    "            k -= 1\n",
    "        time += 1\n",
    "    next_ = (eat+1)%n ## 다음 먹을 접시\n",
    "    \n",
    "    if food_times[next_] != 0:  ## 다음 먹을 접시가 0이 아닌 경우 \n",
    "        return next_+1  ## 다음 먹을 접시 index+1\n",
    "    \n",
    "    else:  ## 다음 먹을 접시가 0인 경우\n",
    "        if sum(food_times[next_:]) != 0:  ## next_ 다음 접시에 음식이 있을 때\n",
    "            for num, val in enumerate (food_times[next_:]): \n",
    "                if val != 0:\n",
    "                    return num + next_ + 1 \n",
    "        else:  ## next_ 다음 모든 접시에 음식이 없을 때(0일때)\n",
    "            for num, val in enumerate (food_times[:next_]):\n",
    "                if val != 0:\n",
    "                    return num+1"
   ]
  },
  {
   "cell_type": "code",
   "execution_count": 75,
   "metadata": {},
   "outputs": [
    {
     "name": "stdout",
     "output_type": "stream",
     "text": [
      "1\n",
      "5\n",
      "3\n",
      "1\n"
     ]
    }
   ],
   "source": [
    "food_times, k = [3, 1, 2], 5\n",
    "print (solution(food_times, k))  \n",
    "\n",
    "food_times, k = [4, 2, 3, 6, 7, 1, 5, 8], 27\n",
    "print (solution(food_times, k))\n",
    "\n",
    "food_times, k = [4, 2, 3, 6, 7, 1, 5, 8], 16\n",
    "print (solution(food_times, k))\n",
    "\n",
    "food_times, k = [12, 1, 2, 1, 2, 2], 6\n",
    "print (solution(food_times, k))"
   ]
  }
 ],
 "metadata": {
  "kernelspec": {
   "display_name": "Python 3",
   "language": "python",
   "name": "python3"
  },
  "language_info": {
   "codemirror_mode": {
    "name": "ipython",
    "version": 3
   },
   "file_extension": ".py",
   "mimetype": "text/x-python",
   "name": "python",
   "nbconvert_exporter": "python",
   "pygments_lexer": "ipython3",
   "version": "3.8.5"
  }
 },
 "nbformat": 4,
 "nbformat_minor": 4
}
