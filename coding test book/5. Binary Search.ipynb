{
 "cells": [
  {
   "cell_type": "markdown",
   "metadata": {},
   "source": [
    "### [이코테 197p] 부품찾기\n",
    "\n",
    "동빈이네 전자 매장에는 부품이 N개 있다. 각 부품은 정수 형태의 고유한 번호가 있다. 어느 날 손님이 M개의 종류의 부품을 대량으로 구매하겠다며 당일 날 견적서를 요청했다. 동빈이는 때를 놓치지 않고 손님이 문의한 부품 M개 종류를 모두 확인해서 견적서를 작성해야 한다. 이때 가게 안에 부품이 모두 있는지 확인하는 프로그램을 작성해보자.    \n",
    "예를 들어 가게의 부품이 총 5개일 때 부품 번호가 다음과 같다고 하자.    \n",
    "     \n",
    "N=5       \n",
    "[8, 3, 7, 9, 2]       \n",
    "손님은 총 3개의 부품이 있는지 확인 요청했는데 부품 번호는 다음과 같다.     \n",
    "      \n",
    "M=3      \n",
    "[5, 7, 9]       \n",
    "이때 손님이 요청한 부품 번호의 순서대로 부품을 확인해 부품이 있으면 yes를, 없으면 no를 출력한다. 구분은 공백으로 한다.    "
   ]
  },
  {
   "cell_type": "code",
   "execution_count": 2,
   "metadata": {},
   "outputs": [],
   "source": [
    "def binary_search(start, end, data, target):\n",
    "    mid = (start+end)//2\n",
    "    if start >end:\n",
    "        return None\n",
    "    \n",
    "    if data[mid] == target:\n",
    "        return mid\n",
    "    elif data[mid] > target:\n",
    "        return binary_search(start, mid-1, data, target)\n",
    "    else:\n",
    "        return binary_search(mid+1, end, data, target)"
   ]
  },
  {
   "cell_type": "code",
   "execution_count": 4,
   "metadata": {},
   "outputs": [
    {
     "name": "stdout",
     "output_type": "stream",
     "text": [
      "no yes yes "
     ]
    }
   ],
   "source": [
    "N = 5\n",
    "have = [8,3,7,9,2]\n",
    "\n",
    "M=3\n",
    "req = [5,7,9]\n",
    "\n",
    "for target in req:\n",
    "    r = binary_search(0,len(have)-1,have, target)\n",
    "    if r == None:\n",
    "        print ('no', end = ' ')\n",
    "    else:\n",
    "        print ('yes', end = ' ')"
   ]
  },
  {
   "cell_type": "code",
   "execution_count": 5,
   "metadata": {},
   "outputs": [
    {
     "name": "stdout",
     "output_type": "stream",
     "text": [
      "no yes yes "
     ]
    }
   ],
   "source": [
    "## 집합 자료형 이용하여 풀기\n",
    "N = 5\n",
    "have = [8,3,7,9,2]\n",
    "\n",
    "M=3\n",
    "req = [5,7,9]\n",
    "\n",
    "for target in req:\n",
    "    if target in have:\n",
    "        print ('yes', end = ' ')\n",
    "    else:\n",
    "        print ('no', end = ' ')"
   ]
  },
  {
   "cell_type": "markdown",
   "metadata": {},
   "source": [
    "### [이코테 201p] 떡볶이 떡 만들기 \n",
    "\n",
    "오늘 동빈이는 여행 가신 부모님을 대신해서 떡집 일을 하기로 했습니다.    \n",
    "오늘은 떡볶이 떡을 만드는 날입니다.         \n",
    "동빈이네 떡볶이 떡은 재밌게도 떡볶이 떡의 길이가 일정하지 않습니다.   \n",
    "대신에 한 봉지 안에 들어가는 떡의 총 길이는 절단기로 잘라서 맞춰줍니다.   \n",
    "\n",
    "절단기에 높이(H)를 지정하면 줄지어진 떡을 한 번에 절단합니다.      \n",
    "높이가 H보다 긴 떡은 H 위의 부분이 잘릴 것이고, 낮은 떡은 잘리지 않습니다.    \n",
    "       \n",
    "        \n",
    "예를 들어 높이가 19, 14, 10, 17cm 인 떡이 나란히 있고 절단기 높이를 15cm로 지정하면 자른 뒤 떡의 높이는 15, 14, 10, 15cm가 될 것입니다.    \n",
    "잘린 떡의 길이는 차례대로 4, 0, 0, 2cm입니다.  \n",
    "손님은 6cm만큼의 길이를 가져갑니다.     \n",
    "손님이 왔을 때 요청한 총 길이가 M일 때 적어도 M만큼의 떡을 얻기 위해 절단기에 설정할 수 있는 높이의 최댓값을 구하는 프로그램을 작성하세요."
   ]
  },
  {
   "cell_type": "code",
   "execution_count": 8,
   "metadata": {},
   "outputs": [
    {
     "data": {
      "text/plain": [
       "15"
      ]
     },
     "execution_count": 8,
     "metadata": {},
     "output_type": "execute_result"
    }
   ],
   "source": [
    "n,m = 4,6\n",
    "dduk = [19, 15,10,17]\n",
    "\n",
    "start = 0\n",
    "end = max(dduk)\n",
    "\n",
    "result = 0\n",
    "while (start<=end):\n",
    "    tmp = 0\n",
    "    mid = (start+end)//2\n",
    "    for ddu in dduk:\n",
    "        if ddu > mid:\n",
    "            tmp += (ddu - mid)\n",
    "    if tmp >= m:\n",
    "        result = mid\n",
    "        start = mid+1\n",
    "    else:\n",
    "        end = mid-1\n",
    "\n",
    "result"
   ]
  }
 ],
 "metadata": {
  "kernelspec": {
   "display_name": "Python 3",
   "language": "python",
   "name": "python3"
  },
  "language_info": {
   "codemirror_mode": {
    "name": "ipython",
    "version": 3
   },
   "file_extension": ".py",
   "mimetype": "text/x-python",
   "name": "python",
   "nbconvert_exporter": "python",
   "pygments_lexer": "ipython3",
   "version": "3.8.5"
  }
 },
 "nbformat": 4,
 "nbformat_minor": 4
}
