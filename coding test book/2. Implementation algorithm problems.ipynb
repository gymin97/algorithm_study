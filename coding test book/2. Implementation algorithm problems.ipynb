{
 "cells": [
  {
   "cell_type": "markdown",
   "metadata": {},
   "source": [
    "7. 럭키 스트레이트   \n",
    "\n",
    "     \n",
    "- 입력 조건       \n",
    "    첫째 줄에 점수 N이 정수로 주어집니다. (10≤N≤99,999,999)    \n",
    "    단, 점수 N의 자릿수는 항상 짝수 형태로만 주어집니다.    \n",
    "    예를 들어 자릿수가 5인 12,345와 같은 수는 입력으로 들어오지 않습니다.       \n",
    "\n",
    " \n",
    "\n",
    "- 출력 조건          \n",
    "    첫째 줄에 럭키 스트레이트를 사용할 수 있다면 \"LUCKY\"를, 사용할 수 없다면 \"READY\"를 출력합니다.        \n",
    "\n",
    " \n",
    "\n",
    "- 테스트케이스 \n",
    "    123456 → LUCKY     \n",
    "    7755 → READY"
   ]
  },
  {
   "cell_type": "code",
   "execution_count": 15,
   "metadata": {},
   "outputs": [],
   "source": [
    "n= 123402\n",
    "\n",
    "def lucky_straight(n): \n",
    "    n_list = [int(num) for num in str(n)] # n_list = list(map(int, str(n))) \n",
    "    center = len(n_list)//2\n",
    "\n",
    "    front = n_list[:center]\n",
    "    back = n_list[center:]\n",
    "\n",
    "    f = 0\n",
    "    b = 0\n",
    "    for i in range(center):\n",
    "        f += front[i]\n",
    "        b += back[i]\n",
    "\n",
    "    if f == b:\n",
    "        return ('LUCKY')\n",
    "    else:\n",
    "        return (\"READY\")"
   ]
  },
  {
   "cell_type": "code",
   "execution_count": 17,
   "metadata": {},
   "outputs": [
    {
     "name": "stdout",
     "output_type": "stream",
     "text": [
      "123402\n"
     ]
    },
    {
     "data": {
      "text/plain": [
       "'LUCKY'"
      ]
     },
     "execution_count": 17,
     "metadata": {},
     "output_type": "execute_result"
    }
   ],
   "source": [
    "n = input()\n",
    "lucky_straight(n)"
   ]
  },
  {
   "cell_type": "markdown",
   "metadata": {},
   "source": [
    "8. 문자열 재정렬     \n",
    "- 입력 조건      \n",
    "    첫째 줄에 하나의 문자열 S가 주어집니다. (1 ≤ S의 길이 ≤ 10,000)     \n",
    "\n",
    "- 출력 조건     \n",
    "    첫째 줄에 문제에서 요구하는 정답을 출력합니다.     \n",
    "\n",
    " \n",
    "\n",
    "- 테스트케이스    \n",
    "    K1KA5CB7 → ABCKK13     \n",
    "    AJKDLSI412K4JSJ9D → ADDIJJJKKLSS20"
   ]
  },
  {
   "cell_type": "code",
   "execution_count": 45,
   "metadata": {},
   "outputs": [],
   "source": [
    "def rearrange_str(input_str):\n",
    "    input_str = sorted(input_str)\n",
    "    str_ = ''\n",
    "    n = 0\n",
    "    for s in input_str:\n",
    "        if s.isalpha():\n",
    "            str_ += s\n",
    "        else: \n",
    "            n += int(s)\n",
    "    return (str_ + str(n))"
   ]
  },
  {
   "cell_type": "code",
   "execution_count": 46,
   "metadata": {},
   "outputs": [
    {
     "name": "stdout",
     "output_type": "stream",
     "text": [
      "k1ka5cb7\n"
     ]
    },
    {
     "data": {
      "text/plain": [
       "'abckk13'"
      ]
     },
     "execution_count": 46,
     "metadata": {},
     "output_type": "execute_result"
    }
   ],
   "source": [
    "input_str = input()\n",
    "rearrange_str(input_str)"
   ]
  },
  {
   "cell_type": "markdown",
   "metadata": {},
   "source": [
    "9. 문자열 압축\n",
    "\n",
    "\n",
    "- 문제 설명\n",
    "데이터 처리 전문가가 되고 싶은 \"어피치\"는 문자열을 압축하는 방법에 대해 공부를 하고 있습니다. 최근에 대량의 데이터 처리를 위한 간단한 비손실 압축 방법에 대해 공부를 하고 있는데, 문자열에서 같은 값이 연속해서 나타나는 것을 그 문자의 개수와 반복되는 값으로 표현하여 더 짧은 문자열로 줄여서 표현하는 알고리즘을 공부하고 있습니다.<br/>\n",
    "간단한 예로 \"aabbaccc\"의 경우 \"2a2ba3c\"(문자가 반복되지 않아 한번만 나타난 경우 1은 생략함)와 같이 표현할 수 있는데, 이러한 방식은 반복되는 문자가 적은 경우 압축률이 낮다는 단점이 있습니다. 예를 들면, \"abcabcdede\"와 같은 문자열은 전혀 압축되지 않습니다. \"어피치\"는 이러한 단점을 해결하기 위해 문자열을 1개 이상의 단위로 잘라서 압축하여 더 짧은 문자열로 표현할 수 있는지 방법을 찾아보려고 합니다.<br/><br/>\n",
    "\n",
    "    예를 들어, \"ababcdcdababcdcd\"의 경우 문자를 1개 단위로 자르면 전혀 압축되지 않지만, 2개 단위로 잘라서 압축한다면 \"2ab2cd2ab2cd\"로 표현할 수 있습니다. 다른 방법으로 8개 단위로 잘라서 압축한다면 \"2ababcdcd\"로 표현할 수 있으며, 이때가 가장 짧게 압축하여 표현할 수 있는 방법입니다.<br/><br/>\n",
    "\n",
    "    다른 예로, \"abcabcdede\"와 같은 경우, 문자를 2개 단위로 잘라서 압축하면 \"abcabc2de\"가 되지만, 3개 단위로 자른다면 \"2abcdede\"가 되어 3개 단위가 가장 짧은 압축 방법이 됩니다. 이때 3개 단위로 자르고 마지막에 남는 문자열은 그대로 붙여주면 됩니다.<br/><br/>\n",
    "\n",
    "    압축할 문자열 s가 매개변수로 주어질 때, 위에 설명한 방법으로 1개 이상 단위로 문자열을 잘라 압축하여 표현한 문자열 중 가장 짧은 것의 길이를 return 하도록 solution 함수를 완성해주세요.<br/>\n",
    "\n",
    " \n",
    "- 입출력 예    \n",
    "    s\tresult<br/>\n",
    "    \"aabbaccc\"\t7<br/>\n",
    "    \"ababcdcdababcdcd\"\t9<br/>\n",
    "    \"abcabcdede\"\t8<br/>\n",
    "    \"abcabcabcabcdededededede\"\t14<br/>\n",
    "    \"xababcdcdababcdcd\"\t17<br/>"
   ]
  },
  {
   "cell_type": "code",
   "execution_count": 50,
   "metadata": {},
   "outputs": [],
   "source": [
    "def short_str(s):\n",
    "    if len(s) <= 3:  ## 최소 4자리 이상일때 반복가능 -> 그 이하는 예외처리\n",
    "        return (s)\n",
    "\n",
    "    ans = 1000  ## 최대로 들어올 수 있는 값을 초기값으로 설정 -> 이후 더 짧은 문자열이 생성되는 경우 업데이트\n",
    "    for i in range (1, (len(s)//2)+1): ## 문자열 길이의 최대 절반까지 반복가능 i = 반복 되는 문자열 길이\n",
    "        count = 1\n",
    "        string =''\n",
    "        j = 0\n",
    "        while j < len(s):  ## j를 통해 처음~끝까지 순회\n",
    "            if s[j:j+i] == s[j+i:j+(2*i)]:\n",
    "                count += 1\n",
    "            elif count <= 1:  ## 문자열이 반복되지 않은 경우 \n",
    "                string += s[j:j+i]\n",
    "            else :  ## 압축 가능한 문자열일때 \n",
    "                string += (str(count)+s[j:j+i])\n",
    "                count = 1\n",
    "            j += i \n",
    "\n",
    "        if len(string) < ans:  ## 더 많이 압축된 문자열이 나오면 업데이트\n",
    "            ans = len(string)\n",
    "    return (ans)"
   ]
  },
  {
   "cell_type": "code",
   "execution_count": 51,
   "metadata": {},
   "outputs": [
    {
     "name": "stdout",
     "output_type": "stream",
     "text": [
      "7\n",
      "9\n",
      "8\n",
      "14\n",
      "17\n"
     ]
    }
   ],
   "source": [
    "print (short_str(\"aabbaccc\"))\n",
    "print (short_str(\"ababcdcdababcdcd\"))\n",
    "print (short_str(\"abcabcdede\"))\n",
    "print (short_str(\"abcabcabcabcdededededede\"))\n",
    "print (short_str(\"xababcdcdababcdcd\"))"
   ]
  },
  {
   "cell_type": "markdown",
   "metadata": {},
   "source": [
    "10. 자물쇠와 열쇠    \n",
    "프로그래머스 문제로 지문 확인 및 테스트케이스는 [이곳](https://programmers.co.kr/learn/courses/30/lessons/60059)을 클릭 바랍니다 "
   ]
  },
  {
   "cell_type": "code",
   "execution_count": 88,
   "metadata": {},
   "outputs": [],
   "source": [
    "def rotation(a):\n",
    "    col = len(a)\n",
    "    row = len(a[0])\n",
    "    rotation = [[0]*row for _ in range (row)] ## 회전 후\n",
    "\n",
    "    for i in range(col):\n",
    "        for j in range(row):\n",
    "            rotation[j][row - i -1] = a[i][j]\n",
    "    return rotation"
   ]
  },
  {
   "cell_type": "code",
   "execution_count": 102,
   "metadata": {},
   "outputs": [],
   "source": [
    "def check(lock):\n",
    "    len_lock = len(lock)//3\n",
    "    for i in range(len_lock,len_lock*2):\n",
    "        for j in range(len_lock, len_lock*2):\n",
    "            if lock[i][j] != 1:\n",
    "                return False\n",
    "    return True"
   ]
  },
  {
   "cell_type": "code",
   "execution_count": 112,
   "metadata": {},
   "outputs": [],
   "source": [
    "def lock_and_key(key, lock):\n",
    "    ## 3배 큰 공간을 만들고 중앙에 기존 자물쇠 넣기 \n",
    "    key_len = len(key)\n",
    "    lock_len = len(lock)\n",
    "    new_len = len(lock)*3\n",
    "    new_lock = [[0]*new_len for _ in range(new_len)]\n",
    "\n",
    "    for i in range(lock_len, lock_len*2):\n",
    "        for j in range(lock_len, lock_len*2):\n",
    "            new_lock[i][j] = lock[i-lock_len][j-lock_len]\n",
    "\n",
    "    ## 키 회전 -> 맞나 확인을 반복\n",
    "    for r_c in range(4):\n",
    "        key = rotation(key)\n",
    "        for y in range (lock_len*2):\n",
    "            for x in range(lock_len*2):\n",
    "                ## 열쇠 넣기\n",
    "                for k_y in range(key_len):\n",
    "                    for k_x in range(key_len):\n",
    "                        new_lock[x+k_x][y+k_y] += key[k_x][k_y]\n",
    "                ## 열쇠가 맞는지 검사\n",
    "                if check(new_lock) == True:\n",
    "                    return True\n",
    "                ## 안맞는 경우 열쇠 다시 제거 \n",
    "                for k_y in range(key_len):\n",
    "                    for k_x in range(key_len):\n",
    "                        new_lock[x+k_x][y+k_y] -= key[k_x][k_y]\n",
    "    return False"
   ]
  },
  {
   "cell_type": "code",
   "execution_count": 113,
   "metadata": {},
   "outputs": [
    {
     "data": {
      "text/plain": [
       "True"
      ]
     },
     "execution_count": 113,
     "metadata": {},
     "output_type": "execute_result"
    }
   ],
   "source": [
    "key = [[0,0,0],\n",
    "      [1,0,0],\n",
    "      [0,1,1]]\n",
    "\n",
    "lock = [[1,1,1],\n",
    "       [1,1,0],\n",
    "       [1,0,1]]\n",
    "\n",
    "lock_and_key(key, lock)"
   ]
  }
 ],
 "metadata": {
  "kernelspec": {
   "display_name": "Python 3",
   "language": "python",
   "name": "python3"
  },
  "language_info": {
   "codemirror_mode": {
    "name": "ipython",
    "version": 3
   },
   "file_extension": ".py",
   "mimetype": "text/x-python",
   "name": "python",
   "nbconvert_exporter": "python",
   "pygments_lexer": "ipython3",
   "version": "3.8.5"
  }
 },
 "nbformat": 4,
 "nbformat_minor": 4
}
