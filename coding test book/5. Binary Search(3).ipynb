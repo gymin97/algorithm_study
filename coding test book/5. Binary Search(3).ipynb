{
 "cells": [
  {
   "cell_type": "markdown",
   "metadata": {},
   "source": [
    "### [이코테 368p] 고정점 찾기\n",
    "\n",
    "**문제**     \n",
    "\n",
    "고정점(Fixed Point)이란 , 수열의 원소 중에서 그 값이 인덱스와 동일한 원소를 의미한다.      \n",
    "예를들어 수열 a = {-15, -4, 2, 8, 13}이 있을때 a[2] = 2이므로 고정점은 2가 됩니다.      \n",
    "하나의 수열이 N개의 서로 다른 원소를 포함하고 있으며, 모든원소가 오름차순으로 정렬되어 있습니다.       \n",
    "이때 이 수열에서 고정점이 있다면, 고정점을 출력하는 프로그램을 작성하세요.     \n",
    "고정점은 최대 1개만 존재합니다. 만약 고정점이 없다면 -1을 출력합니다.    \n",
    "단, 이 문제는 시간복잡도 O(logN)으로 설계하지 않으면 '시간 초과' 판정을 받습니다.     "
   ]
  },
  {
   "cell_type": "code",
   "execution_count": 10,
   "metadata": {},
   "outputs": [],
   "source": [
    "def binary_search(start, end, data):\n",
    "    mid = (start + end) // 2\n",
    "\n",
    "    if start > end:\n",
    "        return -1\n",
    "    \n",
    "    if mid == data[mid]:\n",
    "        return mid\n",
    "    \n",
    "    elif mid > data[mid]:\n",
    "        return binary_search(mid+1, end, data)\n",
    "    else:\n",
    "        return binary_search(start, mid-1, data)"
   ]
  },
  {
   "cell_type": "code",
   "execution_count": 12,
   "metadata": {},
   "outputs": [
    {
     "name": "stdout",
     "output_type": "stream",
     "text": [
      "0 4 2\n"
     ]
    },
    {
     "data": {
      "text/plain": [
       "2"
      ]
     },
     "execution_count": 12,
     "metadata": {},
     "output_type": "execute_result"
    }
   ],
   "source": [
    "data = [-15, -4, 2, 8, 13]\n",
    "start = 0\n",
    "\n",
    "binary_search(start, len(data)-1, data)"
   ]
  }
 ],
 "metadata": {
  "kernelspec": {
   "display_name": "Python 3",
   "language": "python",
   "name": "python3"
  },
  "language_info": {
   "codemirror_mode": {
    "name": "ipython",
    "version": 3
   },
   "file_extension": ".py",
   "mimetype": "text/x-python",
   "name": "python",
   "nbconvert_exporter": "python",
   "pygments_lexer": "ipython3",
   "version": "3.8.5"
  }
 },
 "nbformat": 4,
 "nbformat_minor": 4
}
