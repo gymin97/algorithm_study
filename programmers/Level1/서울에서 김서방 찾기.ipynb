{
 "cells": [
  {
   "cell_type": "markdown",
   "metadata": {},
   "source": [
    "### 서울에서 김서방 찾기\n",
    "\n",
    "\n",
    "#### 문제 설명\n",
    "String형 배열 seoul의 element중 \"Kim\"의 위치 x를 찾아, \"김서방은 x에 있다\"는 String을 반환하는 함수, solution을 완성하세요. seoul에 \"Kim\"은 오직 한 번만 나타나며 잘못된 값이 입력되는 경우는 없습니다. <br/><br/>\n",
    "\n",
    "\n",
    "#### 입출력 예\n",
    "**seoul**<br/>\n",
    "[\"Jane\", \"Kim\"]<br/>\n",
    "**return**<br/>\n",
    "\"김서방은 1에 있다\""
   ]
  },
  {
   "cell_type": "code",
   "execution_count": 1,
   "metadata": {},
   "outputs": [],
   "source": [
    "def solution(seoul):\n",
    "    return '김서방은 {}에 있다'.format(seoul.index(\"Kim\"))"
   ]
  },
  {
   "cell_type": "code",
   "execution_count": 3,
   "metadata": {},
   "outputs": [
    {
     "name": "stdout",
     "output_type": "stream",
     "text": [
      "김서방은 1에 있다\n",
      "김서방은 2에 있다\n"
     ]
    }
   ],
   "source": [
    "print (solution([\"Jane\", \"Kim\"]))\n",
    "print (solution([\"Queen\", \"Tod\", \"Kim\"]))"
   ]
  }
 ],
 "metadata": {
  "kernelspec": {
   "display_name": "Python 3",
   "language": "python",
   "name": "python3"
  },
  "language_info": {
   "codemirror_mode": {
    "name": "ipython",
    "version": 3
   },
   "file_extension": ".py",
   "mimetype": "text/x-python",
   "name": "python",
   "nbconvert_exporter": "python",
   "pygments_lexer": "ipython3",
   "version": "3.8.5"
  }
 },
 "nbformat": 4,
 "nbformat_minor": 4
}
