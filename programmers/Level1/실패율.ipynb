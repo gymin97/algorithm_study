{
 "cells": [
  {
   "cell_type": "markdown",
   "metadata": {},
   "source": [
    "### 실패율\n",
    "\n",
    "\n",
    "#### 문제 설명\n",
    "슈퍼 게임 개발자 오렐리는 큰 고민에 빠졌다. 그녀가 만든 프랜즈 오천성이 대성공을 거뒀지만, 요즘 신규 사용자의 수가 급감한 것이다. 원인은 신규 사용자와 기존 사용자 사이에 스테이지 차이가 너무 큰 것이 문제였다.<br/>\n",
    "\n",
    "이 문제를 어떻게 할까 고민 한 그녀는 동적으로 게임 시간을 늘려서 난이도를 조절하기로 했다. 역시 슈퍼 개발자라 대부분의 로직은 쉽게 구현했지만, 실패율을 구하는 부분에서 위기에 빠지고 말았다. 오렐리를 위해 실패율을 구하는 코드를 완성하라.<br/>\n",
    "\n",
    "실패율은 다음과 같이 정의한다.<br/>\n",
    "스테이지에 도달했으나 아직 클리어하지 못한 플레이어의 수 / 스테이지에 도달한 플레이어 수\n",
    "전체 스테이지의 개수 N, 게임을 이용하는 사용자가 현재 멈춰있는 스테이지의 번호가 담긴 배열 stages가 매개변수로 주어질 때, 실패율이 높은 스테이지부터 내림차순으로 스테이지의 번호가 담겨있는 배열을 return 하도록 solution 함수를 완성하라.<br/>\n",
    "\n",
    "\n",
    "#### 입출력 예\n",
    "N\tstages\tresult<br/>\n",
    "5\t[2, 1, 2, 6, 2, 4, 3, 3]\t[3,4,2,1,5]<br/>\n",
    "4\t[4,4,4,4,4]\t[4,1,2,3]<br/>\n",
    "\n",
    "\n",
    "#### 입출력 예 설명\n",
    "입출력 예 #1<br/>\n",
    "1번 스테이지에는 총 8명의 사용자가 도전했으며, 이 중 1명의 사용자가 아직 클리어하지 못했다. 따라서 1번 스테이지의 실패율은 다음과 같다.<br/>\n",
    "\n",
    "1 번 스테이지 실패율 : 1/8<br/>\n",
    "2번 스테이지에는 총 7명의 사용자가 도전했으며, 이 중 3명의 사용자가 아직 클리어하지 못했다. 따라서 2번 스테이지의 실패율은 다음과 같다.<br/>\n",
    "\n",
    "2 번 스테이지 실패율 : 3/7<br/>\n",
    "마찬가지로 나머지 스테이지의 실패율은 다음과 같다.<br/>\n",
    "\n",
    "3 번 스테이지 실패율 : 2/4<br/>\n",
    "4번 스테이지 실패율 : 1/2<br/>\n",
    "5번 스테이지 실패율 : 0/1<br/>\n",
    "\n",
    "각 스테이지의 번호를 실패율의 내림차순으로 정렬하면 다음과 같다.<br/>\n",
    "[3,4,2,1,5]<br/>\n",
    "\n",
    "\n",
    "입출력 예 #2<br/>\n",
    "모든 사용자가 마지막 스테이지에 있으므로 4번 스테이지의 실패율은 1이며 나머지 스테이지의 실패율은 0이다.<br/>\n",
    "[4,1,2,3]<br/>"
   ]
  },
  {
   "cell_type": "code",
   "execution_count": 1,
   "metadata": {},
   "outputs": [],
   "source": [
    "def solution(N, stages):\n",
    "    answer = []\n",
    "    count = len(stages)\n",
    "    dic = {}\n",
    "    for i in range (1, N+1):\n",
    "        if count == 0:   ## Division By Zero 방지\n",
    "            dic[i] = 0 \n",
    "        else: \n",
    "            dic[i] = stages.count(i)/count\n",
    "            count -= stages.count(i)\n",
    "    \n",
    "    sort = sorted(list(set(dic.values())), reverse = True)\n",
    "    for p in sort:\n",
    "        for key, val in dic.items():\n",
    "            if val == p:\n",
    "                answer.append(key)\n",
    "    return answer"
   ]
  },
  {
   "cell_type": "code",
   "execution_count": 3,
   "metadata": {},
   "outputs": [
    {
     "name": "stdout",
     "output_type": "stream",
     "text": [
      "[3, 4, 2, 1, 5]\n",
      "[4, 1, 2, 3]\n"
     ]
    }
   ],
   "source": [
    "print (solution(5,[2,1,2,6,2,4,3,3]))\n",
    "print (solution(4,[4,4,4,4,4]))"
   ]
  }
 ],
 "metadata": {
  "kernelspec": {
   "display_name": "Python 3",
   "language": "python",
   "name": "python3"
  },
  "language_info": {
   "codemirror_mode": {
    "name": "ipython",
    "version": 3
   },
   "file_extension": ".py",
   "mimetype": "text/x-python",
   "name": "python",
   "nbconvert_exporter": "python",
   "pygments_lexer": "ipython3",
   "version": "3.8.5"
  }
 },
 "nbformat": 4,
 "nbformat_minor": 4
}
