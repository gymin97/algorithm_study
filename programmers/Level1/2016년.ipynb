{
 "cells": [
  {
   "cell_type": "markdown",
   "metadata": {},
   "source": [
    "### 2016년\n",
    "\n",
    "\n",
    "#### 문제 설명\n",
    "2016년 1월 1일은 금요일입니다. 2016년 a월 b일은 무슨 요일일까요? 두 수 a ,b를 입력받아 2016년 a월 b일이 무슨 요일인지 리턴하는 함수, solution을 완성하세요. 요일의 이름은 일요일부터 토요일까지 각각 SUN,MON,TUE,WED,THU,FRI,SAT<br/>\n",
    "\n",
    "입니다. 예를 들어 a=5, b=24라면 5월 24일은 화요일이므로 문자열 \"TUE\"를 반환하세요.<br/>\n",
    "\n",
    "#### 제한 조건\n",
    "2016년은 윤년입니다.<br/>\n",
    "2016년 a월 b일은 실제로 있는 날입니다. (13월 26일이나 2월 45일같은 날짜는 주어지지 않습니다)<br/>\n",
    "\n",
    "\n",
    "#### 입출력 예\n",
    "a\tb\tresult<br/>\n",
    "5\t24\t\"TUE\""
   ]
  },
  {
   "cell_type": "code",
   "execution_count": 1,
   "metadata": {},
   "outputs": [],
   "source": [
    "def solution(a, b):\n",
    "    week = ['SUN','MON','TUE','WED','THU','FRI','SAT']\n",
    "    days = [31,29,31,30,31,30,31,31,30,31,30,31]\n",
    "    now = 5\n",
    "    for i in range(0, a - 1) :\n",
    "        now += days[i]\n",
    "\n",
    "    answer = (now + b - 1) % 7\n",
    "    return days[answer]"
   ]
  },
  {
   "cell_type": "code",
   "execution_count": 2,
   "metadata": {},
   "outputs": [
    {
     "name": "stdout",
     "output_type": "stream",
     "text": [
      "TUE\n"
     ]
    }
   ],
   "source": [
    "print (solution(5,24))"
   ]
  },
  {
   "cell_type": "code",
   "execution_count": 3,
   "metadata": {},
   "outputs": [],
   "source": [
    "## 처음 했던 방식 \n",
    "def solution(a, b):\n",
    "    week = ['SUN','MON','TUE','WED','THU','FRI','SAT']\n",
    "    days = [31,29,31,30,31,30,31,31,30,31,30,31]\n",
    "    cld = {}\n",
    "    first = 5\n",
    "    \n",
    "    ## 매달 시작하는 요일 구하기\n",
    "    for i in range (1,13):\n",
    "        last = (first + (days[i-1]%7-1))\n",
    "        if last > 6:\n",
    "            last = abs(7- (first + (days[i-1]%7-1)))\n",
    "        cld[i] = week[first]\n",
    "        first = last + 1\n",
    "        if first > 6:\n",
    "            first = abs(7- (first))\n",
    "\n",
    "    month, day = a, b\n",
    "    month_start = cld[month]\n",
    "    pick = week.index(month_start)+(day%7-1)\n",
    "    if pick > 6:\n",
    "            pick = abs(7- (pick))\n",
    "\n",
    "    return week[pick]"
   ]
  },
  {
   "cell_type": "code",
   "execution_count": 4,
   "metadata": {},
   "outputs": [
    {
     "name": "stdout",
     "output_type": "stream",
     "text": [
      "TUE\n"
     ]
    }
   ],
   "source": [
    "print (solution(5,24))"
   ]
  }
 ],
 "metadata": {
  "kernelspec": {
   "display_name": "Python 3",
   "language": "python",
   "name": "python3"
  },
  "language_info": {
   "codemirror_mode": {
    "name": "ipython",
    "version": 3
   },
   "file_extension": ".py",
   "mimetype": "text/x-python",
   "name": "python",
   "nbconvert_exporter": "python",
   "pygments_lexer": "ipython3",
   "version": "3.8.5"
  }
 },
 "nbformat": 4,
 "nbformat_minor": 4
}
