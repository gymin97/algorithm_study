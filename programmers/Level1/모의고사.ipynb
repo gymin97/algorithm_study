{
 "cells": [
  {
   "cell_type": "markdown",
   "metadata": {},
   "source": [
    "### 모의고사\n",
    "\n",
    "\n",
    "#### 문제 설명\n",
    "수포자는 수학을 포기한 사람의 준말입니다. 수포자 삼인방은 모의고사에 수학 문제를 전부 찍으려 합니다. 수포자는 1번 문제부터 마지막 문제까지 다음과 같이 찍습니다.<br/>\n",
    "\n",
    "1번 수포자가 찍는 방식: 1, 2, 3, 4, 5, 1, 2, 3, 4, 5, ...<br/>\n",
    "2번 수포자가 찍는 방식: 2, 1, 2, 3, 2, 4, 2, 5, 2, 1, 2, 3, 2, 4, 2, 5, ...<br/>\n",
    "3번 수포자가 찍는 방식: 3, 3, 1, 1, 2, 2, 4, 4, 5, 5, 3, 3, 1, 1, 2, 2, 4, 4, 5, 5, ...<br/>\n",
    "\n",
    "1번 문제부터 마지막 문제까지의 정답이 순서대로 들은 배열 answers가 주어졌을 때, 가장 많은 문제를 맞힌 사람이 누구인지 배열에 담아 return 하도록 solution 함수를 작성해주세요.<br/>\n",
    "\n",
    "제한 조건<br/>\n",
    "시험은 최대 10,000 문제로 구성되어있습니다.<br/>\n",
    "문제의 정답은 1, 2, 3, 4, 5중 하나입니다.<br/>\n",
    "가장 높은 점수를 받은 사람이 여럿일 경우, return하는 값을 오름차순 정렬해주세요.<br/>\n",
    "\n",
    "\n",
    "#### 입출력 예\n",
    "answers\tresult <br/>\n",
    "[1,2,3,4,5]\t[1]<br/>\n",
    "[1,3,2,4,2]\t[1,2,3]<br/>\n",
    "\n",
    "#### 입출력 예 설명\n",
    "입출력 예 #1 <br/>\n",
    "수포자 1은 모든 문제를 맞혔습니다. <br/>\n",
    "수포자 2는 모든 문제를 틀렸습니다. <br/>\n",
    "수포자 3은 모든 문제를 틀렸습니다. <br/>\n",
    "따라서 가장 문제를 많이 맞힌 사람은 수포자 1입니다. <br/>\n",
    "\n",
    "입출력 예 #2 <br/>\n",
    "모든 사람이 2문제씩을 맞췄습니다. <br/>"
   ]
  },
  {
   "cell_type": "code",
   "execution_count": 1,
   "metadata": {},
   "outputs": [],
   "source": [
    "def solution(answers):\n",
    "    answer = [0,0,0]\n",
    "    ans1 = []\n",
    "    ans2 = []\n",
    "    ans3 = []\n",
    "    for num in range(1, len(answers)+1):\n",
    "        ans1.append ('51234'[num%5])\n",
    "        if num%2 !=0:\n",
    "            ans2.append('2')\n",
    "            ans3.append('53124'[((num+1)//2)%5])\n",
    "        else:\n",
    "            ans2.append('5134'[(num//2)%4])\n",
    "            ans3.append('53124'[(num//2)%5])\n",
    "            \n",
    "    for idx, ans in enumerate (answers):\n",
    "        if str(ans) == ans1[idx]:\n",
    "            answer[0] += 1\n",
    "        if str(ans) == ans2[idx]:\n",
    "            answer[1] += 1\n",
    "        if str(ans) == ans3[idx]:\n",
    "            answer[2] += 1\n",
    "\n",
    "    return [idx+1 for idx ,val in enumerate (answer) if val == max(answer)]"
   ]
  },
  {
   "cell_type": "code",
   "execution_count": 2,
   "metadata": {},
   "outputs": [
    {
     "name": "stdout",
     "output_type": "stream",
     "text": [
      "[1]\n",
      "[1, 2, 3]\n"
     ]
    }
   ],
   "source": [
    "print (solution([1,2,3,4,5]))\n",
    "print (solution([1,3,2,4,2]))"
   ]
  },
  {
   "cell_type": "code",
   "execution_count": 3,
   "metadata": {},
   "outputs": [],
   "source": [
    "def solution(answers):\n",
    "    answer = [0,0,0]\n",
    "    ans1 = [1,2,3,4,5]\n",
    "    ans2 = [2,1,2,3,2,4,2,5]\n",
    "    ans3 = [3,3,1,1,2,2,4,4,5,5]\n",
    "            \n",
    "    for idx, ans in enumerate (answers):\n",
    "        if ans == ans1[idx % len(ans1)]:\n",
    "            answer[0] += 1\n",
    "        if ans == ans2[idx % len(ans2)]:\n",
    "            answer[1] += 1\n",
    "        if ans == ans3[idx % len(ans3)]:\n",
    "            answer[2] += 1\n",
    "            \n",
    "    return [idx+1 for idx, val in enumerate (answer) if val == max(answer)]"
   ]
  },
  {
   "cell_type": "code",
   "execution_count": 4,
   "metadata": {},
   "outputs": [
    {
     "name": "stdout",
     "output_type": "stream",
     "text": [
      "[1]\n",
      "[1, 2, 3]\n"
     ]
    }
   ],
   "source": [
    "print (solution([1,2,3,4,5]))\n",
    "print (solution([1,3,2,4,2]))"
   ]
  }
 ],
 "metadata": {
  "kernelspec": {
   "display_name": "Python 3",
   "language": "python",
   "name": "python3"
  },
  "language_info": {
   "codemirror_mode": {
    "name": "ipython",
    "version": 3
   },
   "file_extension": ".py",
   "mimetype": "text/x-python",
   "name": "python",
   "nbconvert_exporter": "python",
   "pygments_lexer": "ipython3",
   "version": "3.8.5"
  }
 },
 "nbformat": 4,
 "nbformat_minor": 4
}
