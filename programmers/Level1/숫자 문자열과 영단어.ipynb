{
 "cells": [
  {
   "cell_type": "markdown",
   "metadata": {},
   "source": [
    "### 숫자 문자열과 영단어\n",
    "\n",
    "\n",
    "#### 문제 설명\n",
    "네오와 프로도가 숫자놀이를 하고 있습니다. 네오가 프로도에게 숫자를 건넬 때 일부 자릿수를 영단어로 바꾼 카드를 건네주면 프로도는 원래 숫자를 찾는 게임입니다.<br/>\n",
    "\n",
    "다음은 숫자의 일부 자릿수를 영단어로 바꾸는 예시입니다.<br/>\n",
    "\n",
    "1478 → \"one4seveneight\"<br/>\n",
    "234567 → \"23four5six7\"<br/>\n",
    "10203 → \"1zerotwozero3\"<br/>\n",
    "이렇게 숫자의 일부 자릿수가 영단어로 바뀌어졌거나, 혹은 바뀌지 않고 그대로인 문자열 s가 매개변수로 주어집니다. s가 의미하는 원래 숫자를 return 하도록 solution 함수를 완성해주세요.<br/>\n",
    "\n",
    "참고로 각 숫자에 대응되는 영단어는 다음 표와 같습니다.<br/>\n",
    "숫자\t영단어<br/>\n",
    "0\tzero<br/>\n",
    "1\tone<br/>\n",
    "2\ttwo<br/>\n",
    "3\tthree<br/>\n",
    "4\tfour<br/>\n",
    "5\tfive<br/>\n",
    "6\tsix<br/>\n",
    "7\tseven<br/>\n",
    "8\teight<br/>\n",
    "9\tnine<br/>\n",
    "\n",
    "#### 입출력 예\n",
    "s\tresult<br/>\n",
    "\"one4seveneight\"\t1478<br/>\n",
    "\"23four5six7\"\t234567<br/>\n",
    "\"2three45sixseven\"\t234567<br/>\n",
    "\"123\"\t123"
   ]
  },
  {
   "cell_type": "code",
   "execution_count": 7,
   "metadata": {},
   "outputs": [],
   "source": [
    "def solution(s):\n",
    "    answer = ''\n",
    "    digits = ['zero', 'one', 'two', 'three', 'four','five', 'six', 'seven', 'eight', 'nine']\n",
    "    \n",
    "    ## s가 숫자로만 이루어진 경우\n",
    "    if s.isdigit():\n",
    "        return str(s)\n",
    "    \n",
    "    temp = ''\n",
    "    for spell in s:\n",
    "        if spell.isdigit():\n",
    "            answer+=spell\n",
    "        \n",
    "        else:\n",
    "            temp += spell\n",
    "            if temp in digits:\n",
    "                answer+= str(digits.index(temp))\n",
    "                temp = ''\n",
    "\n",
    "    return int(answer)"
   ]
  },
  {
   "cell_type": "code",
   "execution_count": 8,
   "metadata": {},
   "outputs": [
    {
     "name": "stdout",
     "output_type": "stream",
     "text": [
      "1478\n",
      "234567\n",
      "234567\n",
      "123\n"
     ]
    }
   ],
   "source": [
    "print (solution(\"one4seveneight\"))\n",
    "print (solution(\"23four5six7\"))\n",
    "print (solution(\"2three45sixseven\"))\n",
    "print (solution(\"123\"))"
   ]
  },
  {
   "cell_type": "code",
   "execution_count": 9,
   "metadata": {},
   "outputs": [],
   "source": [
    "## replace 이용하기\n",
    "\n",
    "def solution(s):\n",
    "    answer = ''\n",
    "    digits = ['zero', 'one', 'two', 'three', 'four','five', 'six', 'seven', 'eight', 'nine']\n",
    "    \n",
    "    for idx, digit in enumerate (digits):\n",
    "        s = s.replace(digit, str(idx))\n",
    "\n",
    "    return int(s)"
   ]
  },
  {
   "cell_type": "code",
   "execution_count": 10,
   "metadata": {},
   "outputs": [
    {
     "name": "stdout",
     "output_type": "stream",
     "text": [
      "1478\n",
      "234567\n",
      "234567\n",
      "123\n"
     ]
    }
   ],
   "source": [
    "print (solution(\"one4seveneight\"))\n",
    "print (solution(\"23four5six7\"))\n",
    "print (solution(\"2three45sixseven\"))\n",
    "print (solution(\"123\"))"
   ]
  }
 ],
 "metadata": {
  "kernelspec": {
   "display_name": "Python 3",
   "language": "python",
   "name": "python3"
  },
  "language_info": {
   "codemirror_mode": {
    "name": "ipython",
    "version": 3
   },
   "file_extension": ".py",
   "mimetype": "text/x-python",
   "name": "python",
   "nbconvert_exporter": "python",
   "pygments_lexer": "ipython3",
   "version": "3.8.5"
  }
 },
 "nbformat": 4,
 "nbformat_minor": 4
}
