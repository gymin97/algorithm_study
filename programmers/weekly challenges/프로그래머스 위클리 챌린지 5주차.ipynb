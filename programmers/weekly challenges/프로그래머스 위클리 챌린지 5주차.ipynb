{
 "cells": [
  {
   "cell_type": "markdown",
   "metadata": {},
   "source": [
    "### 모음 사전\n",
    "\n",
    "#### 문제설명\n",
    "사전에 알파벳 모음 'A', 'E', 'I', 'O', 'U'만을 사용하여 만들 수 있는, 길이 5 이하의 모든 단어가 수록되어 있습니다. 사전에서 첫 번째 단어는 \"A\"이고, 그다음은 \"AA\"이며, 마지막 단어는 \"UUUUU\"입니다.\n",
    "\n",
    "단어 하나 word가 매개변수로 주어질 때, 이 단어가 사전에서 몇 번째 단어인지 return 하도록 solution 함수를 완성해주세요.\n",
    "\n",
    "제한사항\n",
    "word의 길이는 1 이상 5 이하입니다.\n",
    "word는 알파벳 대문자 'A', 'E', 'I', 'O', 'U'로만 이루어져 있습니다.\n",
    "\n",
    "#### 입출력 예\n",
    "word\tresult   \n",
    "\"AAAAE\"\t6   \n",
    "\"AAAE\"\t10   \n",
    "\"I\"\t1563   \n",
    "\"EIO\"\t1189   "
   ]
  },
  {
   "cell_type": "markdown",
   "metadata": {},
   "source": [
    "#### 접근방법\n",
    " \n",
    "경우의수를 따져보았다    \n",
    "AAAA_ -> 5 종류     \n",
    "AAA__ ->5x5종류       \n",
    "AA_ _ _ -> 5x5x5 종류         \n",
    "A_ _ _ _ -> 5x5x5x5종류    \n",
    "_ _ _ _ _ -> 5x5x5x5 종류    \n",
    "\n",
    "자릿수가 다른 첫 글자의 위치를 지정하고 단어 앞의 개수를세고 현재 위치를 구해주면 된다 "
   ]
  },
  {
   "cell_type": "code",
   "execution_count": 1,
   "metadata": {},
   "outputs": [],
   "source": [
    "def solution(word):\n",
    "    answer = 0\n",
    "    alpha = ['A','E','I','O','U']\n",
    "    num = [781, 156, 31,6,1]\n",
    "    for idx,w in enumerate (word):\n",
    "        answer += 1+(alpha.index(w)*num[idx])\n",
    "        \n",
    "    return answer"
   ]
  },
  {
   "cell_type": "code",
   "execution_count": 2,
   "metadata": {},
   "outputs": [
    {
     "data": {
      "text/plain": [
       "1189"
      ]
     },
     "execution_count": 2,
     "metadata": {},
     "output_type": "execute_result"
    }
   ],
   "source": [
    "solution('EIO')"
   ]
  },
  {
   "cell_type": "code",
   "execution_count": 3,
   "metadata": {},
   "outputs": [
    {
     "data": {
      "text/plain": [
       "1563"
      ]
     },
     "execution_count": 3,
     "metadata": {},
     "output_type": "execute_result"
    }
   ],
   "source": [
    "solution(\"I\")"
   ]
  }
 ],
 "metadata": {
  "kernelspec": {
   "display_name": "Python 3",
   "language": "python",
   "name": "python3"
  },
  "language_info": {
   "codemirror_mode": {
    "name": "ipython",
    "version": 3
   },
   "file_extension": ".py",
   "mimetype": "text/x-python",
   "name": "python",
   "nbconvert_exporter": "python",
   "pygments_lexer": "ipython3",
   "version": "3.8.5"
  }
 },
 "nbformat": 4,
 "nbformat_minor": 4
}
