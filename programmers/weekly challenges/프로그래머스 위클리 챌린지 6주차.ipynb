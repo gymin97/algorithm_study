{
 "cells": [
  {
   "cell_type": "markdown",
   "metadata": {},
   "source": [
    "### 복서 정렬하기 \n",
    "\n",
    "#### 문제 설명\n",
    "복서 선수들의 몸무게 weights와, 복서 선수들의 전적을 나타내는 head2head가 매개변수로 주어집니다. 복서 선수들의 번호를 다음과 같은 순서로 정렬한 후 return 하도록 solution 함수를 완성해주세요.    \n",
    "\n",
    "1. 전체 승률이 높은 복서의 번호가 앞쪽으로 갑니다. 아직 다른 복서랑 붙어본 적이 없는 복서의 승률은 0%로 취급합니다.    \n",
    "2. 승률이 동일한 복서의 번호들 중에서는 자신보다 몸무게가 무거운 복서를 이긴 횟수가 많은 복서의 번호가 앞쪽으로 갑니다.    \n",
    "3. 자신보다 무거운 복서를 이긴 횟수까지 동일한 복서의 번호들 중에서는 자기 몸무게가 무거운 복서의 번호가 앞쪽으로 갑니다.    \n",
    "4. 자기 몸무게까지 동일한 복서의 번호들 중에서는 작은 번호가 앞쪽으로 갑니다.    \n",
    "\n",
    "\n",
    "#### 입출력 예\n",
    "weights     |\thead2head     |     \tresult    \n",
    "[50,82,75,120]\t[\"NLWL\",\"WNLL\",\"LWNW\",\"WWLN\"]\t[3,4,1,2]    \n",
    "[145,92,86]\t[\"NLW\",\"WNL\",\"LWN\"]\t[2,3,1]    \n",
    "[60,70,60]\t[\"NNN\",\"NNN\",\"NNN\"]\t[2,1,3]    "
   ]
  },
  {
   "cell_type": "code",
   "execution_count": 1,
   "metadata": {},
   "outputs": [],
   "source": [
    "## sort 함수를 이용한다 \n",
    "## 승리 조건 순서대로 리스트를 만들고 정렬\n",
    "\n",
    "def solution(weights, head2head):\n",
    "    answer = []\n",
    "    for me, h2h in enumerate (head2head):\n",
    "        more = 0  ## 무거운 복서를 이긴 횟수\n",
    "        total = 0 ## 전체 경기 수\n",
    "        w = 0     ## 이긴 횟수\n",
    "        \n",
    "        if h2h == \"N\"*len(h2h): ## 경기를 안한경우 \n",
    "            answer.append([0,0,-weights[me], me+1]) \n",
    "            \n",
    "        else :  \n",
    "            for you, game in enumerate (h2h):\n",
    "                if game == 'L':\n",
    "                    total += 1\n",
    "                elif game == \"W\":\n",
    "                    total += 1\n",
    "                    w += 1\n",
    "                    if weights[me] < weights[you]:\n",
    "                        more += 1\n",
    "            answer.append([-(w/total), -more, -weights[me], me+1])\n",
    "\n",
    "    answer.sort()\n",
    "    return [ans[-1] for ans in answer]"
   ]
  },
  {
   "cell_type": "code",
   "execution_count": 3,
   "metadata": {},
   "outputs": [
    {
     "data": {
      "text/plain": [
       "[3, 4, 1, 2]"
      ]
     },
     "execution_count": 3,
     "metadata": {},
     "output_type": "execute_result"
    }
   ],
   "source": [
    "solution([50,82,75,120],[\"NLWL\",\"WNLL\",\"LWNW\",\"WWLN\"])"
   ]
  },
  {
   "cell_type": "code",
   "execution_count": 4,
   "metadata": {},
   "outputs": [
    {
     "data": {
      "text/plain": [
       "[2, 1, 3]"
      ]
     },
     "execution_count": 4,
     "metadata": {},
     "output_type": "execute_result"
    }
   ],
   "source": [
    "solution([60,70,60], [\"NNN\",\"NNN\",\"NNN\"] )"
   ]
  }
 ],
 "metadata": {
  "kernelspec": {
   "display_name": "Python 3",
   "language": "python",
   "name": "python3"
  },
  "language_info": {
   "codemirror_mode": {
    "name": "ipython",
    "version": 3
   },
   "file_extension": ".py",
   "mimetype": "text/x-python",
   "name": "python",
   "nbconvert_exporter": "python",
   "pygments_lexer": "ipython3",
   "version": "3.8.5"
  }
 },
 "nbformat": 4,
 "nbformat_minor": 4
}
