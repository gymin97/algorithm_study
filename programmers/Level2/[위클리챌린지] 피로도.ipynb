{
 "cells": [
  {
   "attachments": {
    "image.png": {
     "image/png": "[encoded data removed]"
    }
   },
   "cell_type": "markdown",
   "metadata": {},
   "source": [
    "## 피로도 [링크](https://programmers.co.kr/learn/courses/30/lessons/87946)\n",
    "\n",
    "**문제 설명**         \n",
    "XX게임에는 피로도 시스템(0 이상의 정수로 표현합니다)이 있으며, 일정 피로도를 사용해서 던전을 탐험할 수 있습니다. 이때, 각 던전마다 탐험을 시작하기 위해 필요한 \"최소 필요 피로도\"와 던전 탐험을 마쳤을 때 소모되는 \"소모 피로도\"가 있습니다. \"최소 필요 피로도\"는 해당 던전을 탐험하기 위해 가지고 있어야 하는 최소한의 피로도를 나타내며, \"소모 피로도\"는 던전을 탐험한 후 소모되는 피로도를 나타냅니다. 예를 들어 \"최소 필요 피로도\"가 80, \"소모 피로도\"가 20인 던전을 탐험하기 위해서는 유저의 현재 남은 피로도는 80 이상 이어야 하며, 던전을 탐험한 후에는 피로도 20이 소모됩니다.         \n",
    "         \n",
    "이 게임에는 하루에 한 번씩 탐험할 수 있는 던전이 여러개 있는데, 한 유저가 오늘 이 던전들을 최대한 많이 탐험하려 합니다. 유저의 현재 피로도 k와 각 던전별 \"최소 필요 피로도\", \"소모 피로도\"가 담긴 2차원 배열 dungeons 가 매개변수로 주어질 때, 유저가 탐험할수 있는 최대 던전 수를 return 하도록 solution 함수를 완성해주세요.           \n",
    "      \n",
    "      \n",
    "**입출력 예**\n",
    "![image.png](attachment:image.png)"
   ]
  },
  {
   "cell_type": "code",
   "execution_count": 1,
   "metadata": {},
   "outputs": [],
   "source": [
    "## permutations\n",
    "def solution(k, dungeons):\n",
    "    answer = 0\n",
    "    ori = k\n",
    "    from itertools import permutations\n",
    "    perms = list(permutations(dungeons, len(dungeons)))\n",
    "    for perm in (perms):\n",
    "        cnt = 0\n",
    "        k = ori\n",
    "        for p_k, minus in perm:\n",
    "            if k >= p_k and k-minus > 0:\n",
    "                k -= minus\n",
    "                cnt += 1\n",
    "            else:\n",
    "                break\n",
    "        if cnt == len(dungeons):\n",
    "            return cnt\n",
    "        answer = max(answer, cnt)\n",
    "    return answer"
   ]
  },
  {
   "cell_type": "code",
   "execution_count": 2,
   "metadata": {},
   "outputs": [
    {
     "data": {
      "text/plain": [
       "3"
      ]
     },
     "execution_count": 2,
     "metadata": {},
     "output_type": "execute_result"
    }
   ],
   "source": [
    "k = 80\n",
    "dungeons = [[80,20],[50,40],[30,10]]\n",
    "solution(k, dungeons)"
   ]
  },
  {
   "cell_type": "code",
   "execution_count": 3,
   "metadata": {},
   "outputs": [],
   "source": [
    "## dfs\n",
    "answer = 0\n",
    "N = 0\n",
    "visited = []\n",
    "\n",
    "\n",
    "def dfs(k, cnt, dungeons):\n",
    "    global answer\n",
    "    if cnt > answer:\n",
    "        answer = cnt\n",
    "\n",
    "    for j in range(N):\n",
    "        if k >= dungeons[j][0] and not visited[j] and k - dungeons[j][1] > 0:\n",
    "            visited[j] = 1\n",
    "            dfs(k - dungeons[j][1], cnt + 1, dungeons)\n",
    "            visited[j] = 0\n",
    "\n",
    "def solution(k, dungeons):\n",
    "    global N, visited\n",
    "    N = len(dungeons)\n",
    "    visited = [0] * N\n",
    "    dfs(k, 0, dungeons)\n",
    "    return answer"
   ]
  },
  {
   "cell_type": "code",
   "execution_count": 4,
   "metadata": {},
   "outputs": [
    {
     "data": {
      "text/plain": [
       "3"
      ]
     },
     "execution_count": 4,
     "metadata": {},
     "output_type": "execute_result"
    }
   ],
   "source": [
    "solution(k, dungeons)"
   ]
  }
 ],
 "metadata": {
  "kernelspec": {
   "display_name": "Python 3",
   "language": "python",
   "name": "python3"
  },
  "language_info": {
   "codemirror_mode": {
    "name": "ipython",
    "version": 3
   },
   "file_extension": ".py",
   "mimetype": "text/x-python",
   "name": "python",
   "nbconvert_exporter": "python",
   "pygments_lexer": "ipython3",
   "version": "3.8.5"
  }
 },
 "nbformat": 4,
 "nbformat_minor": 4
}
