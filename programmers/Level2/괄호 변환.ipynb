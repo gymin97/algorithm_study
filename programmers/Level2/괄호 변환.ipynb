{
 "cells": [
  {
   "cell_type": "markdown",
   "metadata": {},
   "source": [
    "### 괄호 변환\n",
    "\n",
    "\n",
    "#### 문제 설명\n",
    "카카오에 신입 개발자로 입사한 \"콘\"은 선배 개발자로부터 개발역량 강화를 위해 다른 개발자가 작성한 소스 코드를 분석하여 문제점을 발견하고 수정하라는 업무 과제를 받았습니다. 소스를 컴파일하여 로그를 보니 대부분 소스 코드 내 작성된 괄호가 개수는 맞지만 짝이 맞지 않은 형태로 작성되어 오류가 나는 것을 알게 되었습니다.<br/>\n",
    "수정해야 할 소스 파일이 너무 많아서 고민하던 \"콘\"은 소스 코드에 작성된 모든 괄호를 뽑아서 올바른 순서대로 배치된 괄호 문자열을 알려주는 프로그램을 다음과 같이 개발하려고 합니다.<br/>\n",
    "\n",
    "#### 용어의 정의\n",
    "'(' 와 ')' 로만 이루어진 문자열이 있을 경우, '(' 의 개수와 ')' 의 개수가 같다면 이를 균형잡힌 괄호 문자열이라고 부릅니다.<br/>\n",
    "그리고 여기에 '('와 ')'의 괄호의 짝도 모두 맞을 경우에는 이를 올바른 괄호 문자열이라고 부릅니다.<br/>\n",
    "예를 들어, \"(()))(\"와 같은 문자열은 \"균형잡힌 괄호 문자열\" 이지만 \"올바른 괄호 문자열\"은 아닙니다.<br/>\n",
    "반면에 \"(())()\"와 같은 문자열은 \"균형잡힌 괄호 문자열\" 이면서 동시에 \"올바른 괄호 문자열\" 입니다.<br/>\n",
    "\n",
    "'(' 와 ')' 로만 이루어진 문자열 w가 \"균형잡힌 괄호 문자열\" 이라면 다음과 같은 과정을 통해 \"올바른 괄호 문자열\"로 변환할 수 있습니다.<br/>\n",
    "\n",
    "1. 입력이 빈 문자열인 경우, 빈 문자열을 반환합니다. <br/>\n",
    "2. 문자열 w를 두 \"균형잡힌 괄호 문자열\" u, v로 분리합니다. 단, u는 \"균형잡힌 괄호 문자열\"로 더 이상 분리할 수 없어야 하며, v는 빈 문자열이 될 수 있습니다. <br/>\n",
    "3. 문자열 u가 \"올바른 괄호 문자열\" 이라면 문자열 v에 대해 1단계부터 다시 수행합니다. <br/>\n",
    "    3-1. 수행한 결과 문자열을 u에 이어 붙인 후 반환합니다. <br/>\n",
    "4. 문자열 u가 \"올바른 괄호 문자열\"이 아니라면 아래 과정을 수행합니다. <br/>\n",
    "      4-1. 빈 문자열에 첫 번째 문자로 '('를 붙입니다. <br/>\n",
    "      4-2. 문자열 v에 대해 1단계부터 재귀적으로 수행한 결과 문자열을 이어 붙입니다. <br/>\n",
    "      4-3. ')'를 다시 붙입니다. <br/>\n",
    "      4-4. u의 첫 번째와 마지막 문자를 제거하고, 나머지 문자열의 괄호 방향을 뒤집어서 뒤에 붙입니다. <br/>\n",
    "      4-5. 생성된 문자열을 반환합니다.<br/>\n",
    "\"균형잡힌 괄호 문자열\" p가 매개변수로 주어질 때, 주어진 알고리즘을 수행해 \"올바른 괄호 문자열\"로 변환한 결과를 return 하도록 solution 함수를 완성해 주세요.<br/>\n",
    "\n",
    "#### 입출력 예\n",
    "p\tresult<br/>\n",
    "\"(()())()\"\t\"(()())()\"<br/>\n",
    "\")(\"\t\"()\"<br/>\n",
    "\"()))((()\"\t\"()(())()\"<br/>"
   ]
  },
  {
   "cell_type": "code",
   "execution_count": 2,
   "metadata": {},
   "outputs": [],
   "source": [
    "## 처음 풀이\n",
    "def solution(p):\n",
    "    u = ''\n",
    "    v = ''\n",
    "    temp = ''\n",
    "\n",
    "    ## 1\n",
    "    if p == '':\n",
    "        return p\n",
    "\n",
    "    ## 2 \n",
    "    for idx,s in enumerate (p):\n",
    "        u += s\n",
    "        if u.count('(') == u.count(')'):\n",
    "            v += p[idx+1:]\n",
    "            break \n",
    "\n",
    "    ## 3 올바른 문자열 == 양끝이 ( )이며, 개수가 같은 문자열\n",
    "    if (u[0] == '(' and u[-1] == ')') and (u.count('(') == u.count(')')):\n",
    "        u += solution(v)\n",
    "        return u\n",
    "    ## 4\n",
    "    else:\n",
    "        temp = '(' + solution(v) + ')'\n",
    "        u = u[1:-1]\n",
    "        for i in (u):\n",
    "            if i =='(':\n",
    "                temp+=')'\n",
    "            else:\n",
    "                temp+='('\n",
    "        return temp"
   ]
  },
  {
   "cell_type": "code",
   "execution_count": 3,
   "metadata": {},
   "outputs": [
    {
     "name": "stdout",
     "output_type": "stream",
     "text": [
      "(()())()\n",
      "()\n",
      "()(())()\n"
     ]
    }
   ],
   "source": [
    "print (solution(\"(()())()\"))\n",
    "print (solution(\")(\"))\n",
    "print (solution(\"()))((()\"))"
   ]
  },
  {
   "cell_type": "markdown",
   "metadata": {},
   "source": [
    "실행속도가 최대 0.8ms까지 올라가서 다른 방법을 찾아보았다. \n",
    "-> count 함수가 O(n)이고 이를 여러개 사용해서 느려진 것 같아 이부분을 수정하기로 함"
   ]
  },
  {
   "cell_type": "code",
   "execution_count": 4,
   "metadata": {},
   "outputs": [],
   "source": [
    "## count 제거 풀기\n",
    "def solution(p):\n",
    "    u = ''\n",
    "    v = ''\n",
    "    temp = ''\n",
    "\n",
    "    ## 1\n",
    "    if p == '': return p\n",
    "    \n",
    "    ## 2,3 \n",
    "    c = 0\n",
    "    r = True\n",
    "    for j in range(len(p)):\n",
    "        if p[j] == '(': ## 여는 괄호로 시작하는 경우 -> 올바른 괄호 조건1 만족\n",
    "            c -= 1\n",
    "        else: c += 1\n",
    "        if c > 0: ## 닫힌 괄호로 시작 -> c가 양수가 됨\n",
    "            r = False\n",
    "        if c == 0: ## 올바른 괄호 조건2 만족(여는 괄호, 닫는 괄호 수 동일)\n",
    "            u = p[:j+1]\n",
    "            v = p[j+1:]\n",
    "            if r: ## 1,2 모두 만족 \n",
    "                u += solution(v)\n",
    "                return u\n",
    "            else:  ## 닫힌 괄호로 시작하는경우 \n",
    "                temp = '(' + solution(v) + ')'\n",
    "                u = u[1:-1]\n",
    "                for i in (u):\n",
    "                    if i =='(':\n",
    "                        temp+=')'\n",
    "                    else:\n",
    "                        temp+='('\n",
    "                return temp"
   ]
  },
  {
   "cell_type": "code",
   "execution_count": 5,
   "metadata": {},
   "outputs": [
    {
     "name": "stdout",
     "output_type": "stream",
     "text": [
      "(()())()\n",
      "()\n",
      "()(())()\n"
     ]
    }
   ],
   "source": [
    "print (solution(\"(()())()\"))\n",
    "print (solution(\")(\"))\n",
    "print (solution(\"()))((()\"))"
   ]
  },
  {
   "cell_type": "markdown",
   "metadata": {},
   "source": [
    "count 함수를 제거하니 최대 소요시간이 0.8ms에서  0.23ms로 크게 줄었다"
   ]
  }
 ],
 "metadata": {
  "kernelspec": {
   "display_name": "Python 3",
   "language": "python",
   "name": "python3"
  },
  "language_info": {
   "codemirror_mode": {
    "name": "ipython",
    "version": 3
   },
   "file_extension": ".py",
   "mimetype": "text/x-python",
   "name": "python",
   "nbconvert_exporter": "python",
   "pygments_lexer": "ipython3",
   "version": "3.8.5"
  }
 },
 "nbformat": 4,
 "nbformat_minor": 4
}
