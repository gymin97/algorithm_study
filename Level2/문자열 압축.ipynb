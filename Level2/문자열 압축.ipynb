{
 "cells": [
  {
   "cell_type": "markdown",
   "metadata": {},
   "source": [
    "### 오픈채팅방\n",
    "\n",
    "\n",
    "#### 문제 설명\n",
    "데이터 처리 전문가가 되고 싶은 \"어피치\"는 문자열을 압축하는 방법에 대해 공부를 하고 있습니다. 최근에 대량의 데이터 처리를 위한 간단한 비손실 압축 방법에 대해 공부를 하고 있는데, 문자열에서 같은 값이 연속해서 나타나는 것을 그 문자의 개수와 반복되는 값으로 표현하여 더 짧은 문자열로 줄여서 표현하는 알고리즘을 공부하고 있습니다.<br/>\n",
    "간단한 예로 \"aabbaccc\"의 경우 \"2a2ba3c\"(문자가 반복되지 않아 한번만 나타난 경우 1은 생략함)와 같이 표현할 수 있는데, 이러한 방식은 반복되는 문자가 적은 경우 압축률이 낮다는 단점이 있습니다. 예를 들면, \"abcabcdede\"와 같은 문자열은 전혀 압축되지 않습니다. \"어피치\"는 이러한 단점을 해결하기 위해 문자열을 1개 이상의 단위로 잘라서 압축하여 더 짧은 문자열로 표현할 수 있는지 방법을 찾아보려고 합니다.<br/><br/>\n",
    "\n",
    "예를 들어, \"ababcdcdababcdcd\"의 경우 문자를 1개 단위로 자르면 전혀 압축되지 않지만, 2개 단위로 잘라서 압축한다면 \"2ab2cd2ab2cd\"로 표현할 수 있습니다. 다른 방법으로 8개 단위로 잘라서 압축한다면 \"2ababcdcd\"로 표현할 수 있으며, 이때가 가장 짧게 압축하여 표현할 수 있는 방법입니다.<br/><br/>\n",
    "\n",
    "다른 예로, \"abcabcdede\"와 같은 경우, 문자를 2개 단위로 잘라서 압축하면 \"abcabc2de\"가 되지만, 3개 단위로 자른다면 \"2abcdede\"가 되어 3개 단위가 가장 짧은 압축 방법이 됩니다. 이때 3개 단위로 자르고 마지막에 남는 문자열은 그대로 붙여주면 됩니다.<br/><br/>\n",
    "\n",
    "압축할 문자열 s가 매개변수로 주어질 때, 위에 설명한 방법으로 1개 이상 단위로 문자열을 잘라 압축하여 표현한 문자열 중 가장 짧은 것의 길이를 return 하도록 solution 함수를 완성해주세요.<br/>\n",
    "\n",
    "\n",
    "#### 입출력 예\n",
    "s\tresult<br/>\n",
    "\"aabbaccc\"\t7<br/>\n",
    "\"ababcdcdababcdcd\"\t9<br/>\n",
    "\"abcabcdede\"\t8<br/>\n",
    "\"abcabcabcabcdededededede\"\t14<br/>\n",
    "\"xababcdcdababcdcd\"\t17<br/>"
   ]
  },
  {
   "cell_type": "code",
   "execution_count": 1,
   "metadata": {},
   "outputs": [],
   "source": [
    "def solution(s):\n",
    "    answer = 1000\n",
    "    \n",
    "    if len(s) <= 3:\n",
    "        return len(s)\n",
    "    \n",
    "    for i in range (1, (len(s)//2)+1): ## i = 반복되는 문자열의 길이\n",
    "        string = ''\n",
    "        count = 1\n",
    "        j = 0\n",
    "        while j < len(s):\n",
    "            if s[j:j+i] == s[j+i:j+2*i]:\n",
    "                count += 1\n",
    "            elif count <= 1:\n",
    "                string += s[j:j+i]\n",
    "                count = 1\n",
    "            else:\n",
    "                string += (str(count)+s[j:j+i])\n",
    "                count = 1\n",
    "            j+= i\n",
    "            \n",
    "        if len(string) < answer:\n",
    "            answer = len(string)\n",
    "    return answer"
   ]
  },
  {
   "cell_type": "code",
   "execution_count": 4,
   "metadata": {},
   "outputs": [
    {
     "name": "stdout",
     "output_type": "stream",
     "text": [
      "7\n",
      "9\n",
      "8\n",
      "14\n",
      "17\n"
     ]
    }
   ],
   "source": [
    "print (solution(\"aabbaccc\"))\n",
    "print (solution(\"ababcdcdababcdcd\"))\n",
    "print (solution(\"abcabcdede\"))\n",
    "print (solution(\"abcabcabcabcdededededede\"))\n",
    "print (solution(\"xababcdcdababcdcd\"))"
   ]
  }
 ],
 "metadata": {
  "kernelspec": {
   "display_name": "Python 3",
   "language": "python",
   "name": "python3"
  },
  "language_info": {
   "codemirror_mode": {
    "name": "ipython",
    "version": 3
   },
   "file_extension": ".py",
   "mimetype": "text/x-python",
   "name": "python",
   "nbconvert_exporter": "python",
   "pygments_lexer": "ipython3",
   "version": "3.8.5"
  }
 },
 "nbformat": 4,
 "nbformat_minor": 4
}
