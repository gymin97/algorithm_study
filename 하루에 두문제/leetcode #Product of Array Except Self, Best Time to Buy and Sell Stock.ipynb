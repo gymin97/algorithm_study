{
 "cells": [
  {
   "cell_type": "markdown",
   "metadata": {},
   "source": [
    "### Best Time to Buy and Sell Stock\n",
    "\n",
    "\n",
    "You are given an array prices where prices[i] is the price of a given stock on the ith day.   \n",
    "\n",
    "You want to maximize your profit by choosing a **single day** to buy one stock and choosing a **different day in the future** to sell that stock.   \n",
    "\n",
    "Return the maximum profit you can achieve from this transaction. If you cannot achieve any profit, return 0.   \n",
    "\n",
    "**Example 1**:  \n",
    "\n",
    "Input: prices = [7,1,5,3,6,4]   \n",
    "Output: 5   \n",
    "Explanation: Buy on day 2 (price = 1) and sell on day 5 (price = 6), profit = 6-1 = 5.   \n",
    "Note that buying on day 2 and selling on day 1 is not allowed because you must buy before you sell.   \n",
    "\n",
    "\n",
    "**Example 2**:   \n",
    "\n",
    "Input: prices = [7,6,4,3,1]   \n",
    "Output: 0   \n",
    "Explanation: In this case, no transactions are done and the max profit = 0.   "
   ]
  },
  {
   "cell_type": "code",
   "execution_count": 2,
   "metadata": {},
   "outputs": [],
   "source": [
    "class Solution:\n",
    "    def maxProfit(self, prices: [int]) -> int:\n",
    "        benefit = 0\n",
    "        first = prices[0]\n",
    "        for i in range(1, len(prices)):\n",
    "            if first > prices[i]:\n",
    "                first = prices[i]\n",
    "            else:\n",
    "                tmp = prices[i] - first\n",
    "                if tmp > benefit:\n",
    "                    benefit = tmp\n",
    "        return (benefit)"
   ]
  },
  {
   "cell_type": "code",
   "execution_count": 3,
   "metadata": {},
   "outputs": [
    {
     "data": {
      "text/plain": [
       "5"
      ]
     },
     "execution_count": 3,
     "metadata": {},
     "output_type": "execute_result"
    }
   ],
   "source": [
    "solution = Solution()\n",
    "solution.maxProfit([7,1,5,3,6,4])"
   ]
  },
  {
   "cell_type": "markdown",
   "metadata": {},
   "source": [
    "### Product of Array Except Self\n",
    "\n",
    "Given an integer array nums, return an array answer such that answer[i] is equal to the product of all the elements of nums except nums[i].\n",
    "\n",
    "The product of any prefix or suffix of nums is guaranteed to fit in a 32-bit integer.\n",
    "\n",
    "You must write an algorithm that runs in O(n) time and without using the division operation.\n",
    "\n",
    "\n",
    "**Example 1**:    \n",
    "\n",
    "Input: nums = [1,2,3,4]  \n",
    "Output: [24,12,8,6]  "
   ]
  },
  {
   "cell_type": "code",
   "execution_count": 5,
   "metadata": {},
   "outputs": [],
   "source": [
    "class Solution:\n",
    "    def productExceptSelf(self, nums: [int]) -> [int]:\n",
    "        answer = []\n",
    "        s = 1\n",
    "        zeros = 0\n",
    "        for idx ,num in enumerate (nums):\n",
    "            if num == 0:\n",
    "                 zeros += 1\n",
    "            else: \n",
    "                s *= num\n",
    "                \n",
    "        if zeros == 0:\n",
    "            answer = [s//num for num in nums]\n",
    "        elif zeros == 1:\n",
    "            s = 1\n",
    "            for z in nums:\n",
    "                if z != 0:\n",
    "                    answer.append(0)\n",
    "                    s *= z\n",
    "                else:\n",
    "                    answer.append(1)\n",
    "            answer = [s*ans for ans in answer]\n",
    "        else:\n",
    "            answer = [0]*len(nums)\n",
    "            \n",
    "        return (answer)"
   ]
  },
  {
   "cell_type": "code",
   "execution_count": 6,
   "metadata": {},
   "outputs": [
    {
     "data": {
      "text/plain": [
       "[24, 12, 8, 6]"
      ]
     },
     "execution_count": 6,
     "metadata": {},
     "output_type": "execute_result"
    }
   ],
   "source": [
    "solution = Solution()\n",
    "solution.productExceptSelf([1,2,3,4])"
   ]
  }
 ],
 "metadata": {
  "kernelspec": {
   "display_name": "Python 3",
   "language": "python",
   "name": "python3"
  },
  "language_info": {
   "codemirror_mode": {
    "name": "ipython",
    "version": 3
   },
   "file_extension": ".py",
   "mimetype": "text/x-python",
   "name": "python",
   "nbconvert_exporter": "python",
   "pygments_lexer": "ipython3",
   "version": "3.8.5"
  }
 },
 "nbformat": 4,
 "nbformat_minor": 4
}
