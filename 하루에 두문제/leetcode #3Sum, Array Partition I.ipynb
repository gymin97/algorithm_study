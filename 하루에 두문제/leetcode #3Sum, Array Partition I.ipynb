{
 "cells": [
  {
   "cell_type": "markdown",
   "metadata": {},
   "source": [
    "### 561. Array Partition I\n",
    "\n",
    "Given an integer array nums of 2n integers, group these integers into n pairs (a1, b1), (a2, b2), ..., (an, bn) such that the sum of min(ai, bi) for all i is maximized. Return the maximized sum.  \n",
    "  \n",
    "  \n",
    "**Example 1:**  \n",
    "Input: nums = [1,4,3,2]  \n",
    "Output: 4  \n",
    "Explanation: All possible pairings (ignoring the ordering of elements) are:  \n",
    "1. (1, 4), (2, 3) -> min(1, 4) + min(2, 3) = 1 + 2 = 3  \n",
    "2. (1, 3), (2, 4) -> min(1, 3) + min(2, 4) = 1 + 2 = 3  \n",
    "3. (1, 2), (3, 4) -> min(1, 2) + min(3, 4) = 1 + 3 = 4  \n",
    "So the maximum possible sum is 4.  \n",
    "\n",
    "**Example 2:**  \n",
    "Input: nums = [6,2,6,5,1,2]  \n",
    "Output: 9  \n",
    "Explanation: The optimal pairing is (2, 1), (2, 5), (6, 6). min(2, 1) + min(2, 5) + min(6, 6) = 1 + 2 + 6 = 9.  "
   ]
  },
  {
   "cell_type": "code",
   "execution_count": 2,
   "metadata": {},
   "outputs": [],
   "source": [
    "class Solution:\n",
    "    def arrayPairSum(self, nums: [int]) -> int:\n",
    "        nums = sorted(nums)\n",
    "        sum_min = 0\n",
    "        for i in range (0, len(nums), 2):\n",
    "            sum_min += nums[i]\n",
    "        return (sum_min)"
   ]
  },
  {
   "cell_type": "code",
   "execution_count": 4,
   "metadata": {},
   "outputs": [
    {
     "data": {
      "text/plain": [
       "9"
      ]
     },
     "execution_count": 4,
     "metadata": {},
     "output_type": "execute_result"
    }
   ],
   "source": [
    "solution = Solution()\n",
    "solution.arrayPairSum([6,2,6,5,1,2])"
   ]
  },
  {
   "cell_type": "markdown",
   "metadata": {},
   "source": [
    "### 3Sum\n",
    "\n",
    "Given an integer array nums, return all the triplets [nums[i], nums[j], nums[k]] such that i != j, i != k, and j != k, and nums[i] + nums[j] + nums[k] == 0.  \n",
    "Notice that the solution set must not contain duplicate triplets.  \n",
    "\n",
    "**Example 1:**   \n",
    "Input: nums = [-1,0,1,2,-1,-4]  \n",
    "Output: [[-1,-1,2],[-1,0,1]]    \n",
    "\n",
    "  \n",
    "**Example 2:**  \n",
    "Input: nums = []  \n",
    "Output: []  \n",
    "\n",
    "**Example 3:**             \n",
    "Input: nums = [0]  \n",
    "Output: []  "
   ]
  },
  {
   "cell_type": "code",
   "execution_count": 6,
   "metadata": {},
   "outputs": [],
   "source": [
    "class Solution:\n",
    "    def threeSum(self, nums: List[int]) -> List[List[int]]:\n",
    "        nums.sort()\n",
    "        ans = []\n",
    "        if len(nums) <3:\n",
    "            return []\n",
    "        \n",
    "        for i in range(len(nums)-2):\n",
    "            if i > 0 and nums[i] == nums[i-1]:      # 중복제거\n",
    "                continue  \n",
    "\n",
    "            j, k = i+1, len(nums)-1\n",
    "            while j < k:\n",
    "                three = [nums[i], nums[j], nums[k]]\n",
    "                if sum(three) < 0:\n",
    "                    j += 1\n",
    "                elif sum(three) > 0:\n",
    "                    k -= 1\n",
    "                else:\n",
    "                    ans.append(three)\n",
    "                    while j < k and nums[j] == nums[j+1]:  # 중복제거\n",
    "                        j += 1\n",
    "                    while j < k and nums[k] == nums[k-1]:  # 중복제거\n",
    "                        k -= 1\n",
    "                    j += 1\n",
    "                    k -= 1\n",
    "        return ans\n"
   ]
  },
  {
   "cell_type": "code",
   "execution_count": 8,
   "metadata": {},
   "outputs": [
    {
     "data": {
      "text/plain": [
       "[[-1, -1, 2], [-1, 0, 1]]"
      ]
     },
     "execution_count": 8,
     "metadata": {},
     "output_type": "execute_result"
    }
   ],
   "source": [
    "solution = Solution()\n",
    "solution.threeSum([-1,0,1,2,-1,-4])"
   ]
  }
 ],
 "metadata": {
  "kernelspec": {
   "display_name": "Python 3",
   "language": "python",
   "name": "python3"
  },
  "language_info": {
   "codemirror_mode": {
    "name": "ipython",
    "version": 3
   },
   "file_extension": ".py",
   "mimetype": "text/x-python",
   "name": "python",
   "nbconvert_exporter": "python",
   "pygments_lexer": "ipython3",
   "version": "3.8.5"
  }
 },
 "nbformat": 4,
 "nbformat_minor": 4
}
