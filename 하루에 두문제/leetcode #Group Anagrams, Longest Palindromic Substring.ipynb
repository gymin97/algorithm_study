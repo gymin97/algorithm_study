{
 "cells": [
  {
   "cell_type": "markdown",
   "metadata": {},
   "source": [
    "### 49. Group Anagrams \n",
    "Given an array of strings strs, group the anagrams together. You can return the answer in any order.\n",
    "\n",
    "An Anagram is a word or phrase formed by rearranging the letters of a different word or phrase, typically using all the original letters exactly once.\n",
    "\n",
    "- 같은 연산을 반복해야한다면 변수에 지정하기 -> 훨씬 빨라짐"
   ]
  },
  {
   "cell_type": "code",
   "execution_count": 2,
   "metadata": {},
   "outputs": [],
   "source": [
    "class Solution:\n",
    "    def groupAnagrams(self, strs: [str]) -> [[str]]:\n",
    "        dic = {}\n",
    "        for idx, val in enumerate (strs):\n",
    "            s = ''.join(sorted(val))\n",
    "            if s in dic :\n",
    "                dic[s].append(strs[idx])\n",
    "            else: \n",
    "                dic[s] = [strs[idx]] \n",
    "            \n",
    "        return [val for val in dic.values()]"
   ]
  },
  {
   "cell_type": "code",
   "execution_count": 3,
   "metadata": {},
   "outputs": [
    {
     "data": {
      "text/plain": [
       "[['eat', 'tea', 'ate'], ['tan', 'nat'], ['bat']]"
      ]
     },
     "execution_count": 3,
     "metadata": {},
     "output_type": "execute_result"
    }
   ],
   "source": [
    "solution = Solution()\n",
    "solution.groupAnagrams([\"eat\",\"tea\",\"tan\",\"ate\",\"nat\",\"bat\"])"
   ]
  },
  {
   "cell_type": "markdown",
   "metadata": {},
   "source": [
    "### 5. Longest Palindromic Substring\n",
    "\n",
    "Given a string s, return the longest palindromic substring in s.\n",
    "\n",
    "- 현재 위치에서 양옆으로 확대해 나가는 형식 \n",
    "- 팰린드롬이 aa처럼짝수 증가일때가 있고 aba처럼 홀수 증가일때가 있으므로 따로 처리\n",
    "- 빈문자열이나 길이가 1인 문자열을 예외처리 하였을때 속도 향상 됨"
   ]
  },
  {
   "cell_type": "code",
   "execution_count": 4,
   "metadata": {},
   "outputs": [],
   "source": [
    "class Solution:\n",
    "    def longestPalindrome(self, s: str) -> str:\n",
    "        ## 예외처리\n",
    "        if len(s)<2 or s == s[::-1]:\n",
    "            return s\n",
    "        \n",
    "        result = ''\n",
    "        for i in range(0,len(s)-1):\n",
    "            #odd \n",
    "            left = i\n",
    "            right = i+1\n",
    "            while left >=0 and right <= len(s) and s[left] == s[right-1]:\n",
    "                left -= 1\n",
    "                right += 1\n",
    "            \n",
    "            #even\n",
    "            e_left = i\n",
    "            e_right = i+2\n",
    "            while e_left >=0 and e_right <= len(s) and s[e_left] == s[e_right-1]:\n",
    "                e_left -= 1\n",
    "                e_right += 1\n",
    "            \n",
    "            result = max(result, s[left+1:right-1], s[e_left+1:e_right-1], key = len)\n",
    "        return (result)"
   ]
  },
  {
   "cell_type": "code",
   "execution_count": 5,
   "metadata": {},
   "outputs": [
    {
     "data": {
      "text/plain": [
       "'bab'"
      ]
     },
     "execution_count": 5,
     "metadata": {},
     "output_type": "execute_result"
    }
   ],
   "source": [
    "solution = Solution()\n",
    "solution.longestPalindrome(\"babad\")"
   ]
  }
 ],
 "metadata": {
  "kernelspec": {
   "display_name": "Python 3",
   "language": "python",
   "name": "python3"
  },
  "language_info": {
   "codemirror_mode": {
    "name": "ipython",
    "version": 3
   },
   "file_extension": ".py",
   "mimetype": "text/x-python",
   "name": "python",
   "nbconvert_exporter": "python",
   "pygments_lexer": "ipython3",
   "version": "3.8.5"
  }
 },
 "nbformat": 4,
 "nbformat_minor": 4
}
