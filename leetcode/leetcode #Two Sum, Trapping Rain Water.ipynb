{
 "cells": [
  {
   "cell_type": "markdown",
   "metadata": {},
   "source": [
    "### Two sum\n",
    "\n",
    "Given an array of integers nums and an integer target, return indices of the two numbers such that they add up to target.\n",
    "\n",
    "You may assume that each input would have exactly one solution, and you may not use the same element twice.\n",
    "\n",
    "You can return the answer in any order.\n",
    "\n",
    "- dict를 이용한 접근이 더 빠름 "
   ]
  },
  {
   "cell_type": "code",
   "execution_count": 5,
   "metadata": {},
   "outputs": [],
   "source": [
    "class Solution:\n",
    "    def twoSum(self, nums: [int], target: int) -> [int]:\n",
    "        \n",
    "        for idx, num in enumerate (nums[:-1]):\n",
    "            rem = target - num\n",
    "\n",
    "            if rem in nums[idx+1:]:\n",
    "                return [idx, nums[idx+1:].index(rem)+idx+1]\n"
   ]
  },
  {
   "cell_type": "code",
   "execution_count": 6,
   "metadata": {},
   "outputs": [
    {
     "data": {
      "text/plain": [
       "[0, 1]"
      ]
     },
     "execution_count": 6,
     "metadata": {},
     "output_type": "execute_result"
    }
   ],
   "source": [
    "solution = Solution()\n",
    "solution.twoSum([2,7,11,15], 9)"
   ]
  },
  {
   "cell_type": "code",
   "execution_count": 7,
   "metadata": {},
   "outputs": [],
   "source": [
    "class Solution:\n",
    "    def twoSum(self, nums: [int], target: int) -> [int]:\n",
    "        dic = {}\n",
    "        for idx, num in enumerate (nums):\n",
    "            res = target - num\n",
    "            if res in dic: \n",
    "                return [dic[res], idx]\n",
    "            dic[num] = idx"
   ]
  },
  {
   "cell_type": "code",
   "execution_count": 8,
   "metadata": {},
   "outputs": [
    {
     "data": {
      "text/plain": [
       "[0, 1]"
      ]
     },
     "execution_count": 8,
     "metadata": {},
     "output_type": "execute_result"
    }
   ],
   "source": [
    "solution = Solution()\n",
    "solution.twoSum([2,7,11,15], 9)"
   ]
  },
  {
   "attachments": {
    "image.png": {
     "image/png": "[encoded data removed]"
    }
   },
   "cell_type": "markdown",
   "metadata": {},
   "source": [
    "### Trapping Rain Water\n",
    "Given n non-negative integers representing an elevation map where the width of each bar is 1, compute how much water it can trap after raining.\n",
    "\n",
    "\n",
    "**Example 1:**  \n",
    "Input: height = [0,1,0,2,1,0,1,3,2,1,2,1]   \n",
    "Output: 6   \n",
    "Explanation: The above elevation map (black section) is represented by array [0,1,0,2,1,0,1,3,2,1,2,1]. In this case, 6 units of rain water (blue section) are being trapped.  \n",
    "\n",
    "![image.png](attachment:image.png)"
   ]
  },
  {
   "cell_type": "markdown",
   "metadata": {},
   "source": [
    "최대 높이인 곳의 인덱스를 전후로 빗물이 채워진 모양의 리스트를 만들고 이 리스트에서 벽(height)을 뺀다"
   ]
  },
  {
   "cell_type": "code",
   "execution_count": 2,
   "metadata": {},
   "outputs": [],
   "source": [
    "class Solution:\n",
    "    def trap(self, height: [int]) -> int:\n",
    "        ans = [0]*len(height)\n",
    "        max_idx = height.index(max(height))\n",
    "        ans[0], ans[-1] = height[0], height[-1]\n",
    "        \n",
    "        for idx in range (1, len(height[:max_idx])):\n",
    "            ans[idx] = max(ans[idx-1], height[idx])\n",
    "            \n",
    "        for idx in range(len(height)-max_idx-1):\n",
    "            i = len(height)-idx-2\n",
    "            ans[i] = max(ans[i+1],height[i])\n",
    "            \n",
    "   \n",
    "        return (sum([a-h for a,h in zip(ans,height)]))"
   ]
  },
  {
   "cell_type": "code",
   "execution_count": 3,
   "metadata": {},
   "outputs": [
    {
     "data": {
      "text/plain": [
       "6"
      ]
     },
     "execution_count": 3,
     "metadata": {},
     "output_type": "execute_result"
    }
   ],
   "source": [
    "solution = Solution()\n",
    "solution.trap([0,1,0,2,1,0,1,3,2,1,2,1])"
   ]
  }
 ],
 "metadata": {
  "kernelspec": {
   "display_name": "Python 3",
   "language": "python",
   "name": "python3"
  },
  "language_info": {
   "codemirror_mode": {
    "name": "ipython",
    "version": 3
   },
   "file_extension": ".py",
   "mimetype": "text/x-python",
   "name": "python",
   "nbconvert_exporter": "python",
   "pygments_lexer": "ipython3",
   "version": "3.8.5"
  }
 },
 "nbformat": 4,
 "nbformat_minor": 4
}
