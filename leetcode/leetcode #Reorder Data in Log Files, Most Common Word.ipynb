{
 "cells": [
  {
   "cell_type": "markdown",
   "metadata": {},
   "source": [
    "### 937. Reorder Data in Log Files\n",
    "You are given an array of logs. Each log is a space-delimited string of words, where the first word is the identifier.\n",
    "\n",
    "There are two types of logs:\n",
    "\n",
    "Letter-logs: All words (except the identifier) consist of lowercase English letters.\n",
    "Digit-logs: All words (except the identifier) consist of digits.\n",
    "Reorder these logs so that:\n",
    "\n",
    "The letter-logs come before all digit-logs.\n",
    "The letter-logs are sorted lexicographically by their contents. If their contents are the same, then sort them lexicographically by their identifiers.\n",
    "The digit-logs maintain their relative ordering.\n",
    "Return the final order of the logs.\n",
    "\n",
    "- sorted key - lambda사용에 익숙해지기,,"
   ]
  },
  {
   "cell_type": "code",
   "execution_count": 4,
   "metadata": {},
   "outputs": [],
   "source": [
    "class Solution:\n",
    "    def reorderLogFiles(self, logs:[str]) -> [str]:\n",
    "        digit_list =[]\n",
    "        letter_list = []\n",
    "        answer = ''\n",
    "        for i in logs:\n",
    "            if i.split()[1].isdigit():\n",
    "                digit_list.append(i) \n",
    "            else:\n",
    "                letter_list.append(i.split())\n",
    "        \n",
    "        letter_list = sorted (letter_list)\n",
    "        letter_list = sorted(letter_list, key = lambda x:x[1:])\n",
    "\n",
    "        answer = [' '.join(word) for word in letter_list] + digit_list\n",
    "        return (answer)"
   ]
  },
  {
   "cell_type": "code",
   "execution_count": 6,
   "metadata": {},
   "outputs": [
    {
     "data": {
      "text/plain": [
       "['let1 art can',\n",
       " 'let3 art zero',\n",
       " 'let2 own kit dig',\n",
       " 'dig1 8 1 5 1',\n",
       " 'dig2 3 6']"
      ]
     },
     "execution_count": 6,
     "metadata": {},
     "output_type": "execute_result"
    }
   ],
   "source": [
    "solution = Solution()\n",
    "solution.reorderLogFiles([\"dig1 8 1 5 1\",\"let1 art can\",\"dig2 3 6\",\"let2 own kit dig\",\"let3 art zero\"])"
   ]
  },
  {
   "cell_type": "markdown",
   "metadata": {},
   "source": [
    "### 819. Most Common Word\n",
    "Given a string paragraph and a string array of the banned words banned, return the most frequent word that is not banned. It is guaranteed there is at least one word that is not banned, and that the answer is unique.\n",
    "\n",
    "The words in paragraph are case-insensitive and the answer should be returned in lowercase.\n",
    "\n",
    "- split구분자가 여러개일때 s.split() 여러개 쓰지 말고 re모듈 활용하기"
   ]
  },
  {
   "cell_type": "code",
   "execution_count": 8,
   "metadata": {},
   "outputs": [],
   "source": [
    "class Solution:\n",
    "    def mostCommonWord(self, paragraph: str, banned: [str]) -> str:\n",
    "        import re\n",
    "        import collections \n",
    "        \n",
    "        para = []\n",
    "        paragraph = paragraph.replace(\"'\",\"\").replace ('\"','')\n",
    "        paragraph = re.split('[?!; ,.]', paragraph.lower())\n",
    "        for par in paragraph:\n",
    "            if par in banned:\n",
    "                pass\n",
    "            elif par != '':\n",
    "                para.append(par)\n",
    "        d = dict(collections.Counter(para))\n",
    "        d = [key for key, val in sorted(d.items(), key = lambda x:x[1], reverse=True)]\n",
    "        return d[0]"
   ]
  },
  {
   "cell_type": "code",
   "execution_count": 9,
   "metadata": {},
   "outputs": [],
   "source": [
    "paragraph = \"Bob hit a ball, the hit BALL flew far after it was hit.\"\n",
    "banned = [\"hit\"]"
   ]
  },
  {
   "cell_type": "code",
   "execution_count": 10,
   "metadata": {},
   "outputs": [
    {
     "data": {
      "text/plain": [
       "'ball'"
      ]
     },
     "execution_count": 10,
     "metadata": {},
     "output_type": "execute_result"
    }
   ],
   "source": [
    "solution = Solution()\n",
    "solution.mostCommonWord(paragraph, banned)"
   ]
  },
  {
   "cell_type": "code",
   "execution_count": 11,
   "metadata": {},
   "outputs": [],
   "source": [
    "paragraph = \"L, P! X! C; u! P? w! P. G, S? l? X? D. w? m? f? v, x? i. z; x' m! U' M! j? V; l. S! j? r, K. O? k? p? p, H! t! z' X! v. u; F, h; s? X? K. y, Y! L; q! y? j, o? D' y? F' Z; E? W; W' W! n! p' U. N; w? V' y! Q; J, o! T? g? o! N' M? X? w! V. w? o' k. W. y, k; o' m! r; i, n. k, w; U? S? t; O' g' z. V. N? z, W? j! m? W! h; t! V' T! Z? R' w, w? y? y; O' w; r? q. G, V. x? n, Y; Q. s? S. G. f, s! U? l. o! i. L; Z' X! u. y, Q. q; Q, D; V. m. q. s? Y, U; p? u! q? h? O. W' y? Z! x! r. E, R, r' X' V, b. z, x! Q; y, g' j; j. q; W; v' X! J' H? i' o? n, Y. X! x? h? u; T? l! o? z. K' z' s; L? p? V' r. L? Y; V! V' S. t? Z' T' Y. s? i? Y! G? r; Y; T! h! K; M. k. U; A! V? R? C' x! X. M; z' V! w. N. T? Y' w? n, Z, Z? Y' R; V' f; V' I; t? X? Z; l? R, Q! Z. R. R, O. S! w; p' T. u? U! n, V, M. p? Q, O? q' t. B, k. u. H' T; T? S; Y! S! i? q! K' z' S! v; L. x; q; W? m? y, Z! x. y. j? N' R' I? r? V! Z; s, O? s; V, I, e? U' w! T? T! u; U! e? w? z; t! C! z? U, p' p! r. x; U! Z; u! j; T! X! N' F? n! P' t, X. s; q'\"\n",
    "banned = [\"m\",\"i\",\"s\",\"w\",\"y\",\"d\",\"q\",\"l\",\"a\",\"p\",\"n\",\"t\",\"u\",\"b\",\"o\",\"e\",\"f\",\"g\",\"c\",\"x\"]"
   ]
  },
  {
   "cell_type": "code",
   "execution_count": 12,
   "metadata": {},
   "outputs": [
    {
     "data": {
      "text/plain": [
       "'z'"
      ]
     },
     "execution_count": 12,
     "metadata": {},
     "output_type": "execute_result"
    }
   ],
   "source": [
    "solution = Solution()\n",
    "solution.mostCommonWord(paragraph, banned)"
   ]
  }
 ],
 "metadata": {
  "kernelspec": {
   "display_name": "Python 3",
   "language": "python",
   "name": "python3"
  },
  "language_info": {
   "codemirror_mode": {
    "name": "ipython",
    "version": 3
   },
   "file_extension": ".py",
   "mimetype": "text/x-python",
   "name": "python",
   "nbconvert_exporter": "python",
   "pygments_lexer": "ipython3",
   "version": "3.8.5"
  }
 },
 "nbformat": 4,
 "nbformat_minor": 4
}
