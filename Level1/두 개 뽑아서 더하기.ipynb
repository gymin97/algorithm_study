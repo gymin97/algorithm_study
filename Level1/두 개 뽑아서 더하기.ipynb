{
 "cells": [
  {
   "cell_type": "markdown",
   "metadata": {},
   "source": [
    "### 두 개 뽑아서 더하기\n",
    "\n",
    "\n",
    "#### 문제 설명\n",
    "정수 배열 numbers가 주어집니다. numbers에서 서로 다른 인덱스에 있는 두 개의 수를 뽑아 더해서 만들 수 있는 모든 수를 배열에 오름차순으로 담아 return 하도록 solution 함수를 완성해주세요. <br/><br/>\n",
    "\n",
    "\n",
    "#### 입출력 예\n",
    "numbers\tresult <br/>\n",
    "[2,1,3,4,1]\t[2,3,4,5,6,7] <br/>\n",
    "[5,0,2,7]\t[2,5,7,9,12] <br/>"
   ]
  },
  {
   "cell_type": "code",
   "execution_count": 1,
   "metadata": {},
   "outputs": [],
   "source": [
    "def solution(numbers):\n",
    "    answer = []\n",
    "    for idx in range (len(numbers)):\n",
    "        for i in range (idx, len(numbers)-1):\n",
    "            answer.append(numbers[idx] + numbers[i+1])\n",
    "    answer= sorted(list(set(answer)))\n",
    "    return answer"
   ]
  },
  {
   "cell_type": "code",
   "execution_count": 2,
   "metadata": {},
   "outputs": [
    {
     "name": "stdout",
     "output_type": "stream",
     "text": [
      "[2, 3, 4, 5, 6, 7]\n",
      "[2, 5, 7, 9, 12]\n"
     ]
    }
   ],
   "source": [
    "print(solution([2,1,3,4,1]))\n",
    "print(solution([5,0,2,7]))"
   ]
  }
 ],
 "metadata": {
  "kernelspec": {
   "display_name": "Python 3",
   "language": "python",
   "name": "python3"
  },
  "language_info": {
   "codemirror_mode": {
    "name": "ipython",
    "version": 3
   },
   "file_extension": ".py",
   "mimetype": "text/x-python",
   "name": "python",
   "nbconvert_exporter": "python",
   "pygments_lexer": "ipython3",
   "version": "3.8.5"
  }
 },
 "nbformat": 4,
 "nbformat_minor": 4
}
